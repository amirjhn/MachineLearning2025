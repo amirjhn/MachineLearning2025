{
  "nbformat": 4,
  "nbformat_minor": 0,
  "metadata": {
    "colab": {
      "provenance": [],
      "include_colab_link": true
    },
    "kernelspec": {
      "name": "python3",
      "display_name": "Python 3"
    },
    "language_info": {
      "name": "python"
    }
  },
  "cells": [
    {
      "cell_type": "markdown",
      "metadata": {
        "id": "view-in-github",
        "colab_type": "text"
      },
      "source": [
        "<a href=\"https://colab.research.google.com/github/amirjhn/MachineLearning2025/blob/main/HomeWorks/9925293_Jahangard_AI4021_HW1_1_Python_Tutorial_1.ipynb\" target=\"_parent\"><img src=\"https://colab.research.google.com/assets/colab-badge.svg\" alt=\"Open In Colab\"/></a>"
      ]
    },
    {
      "cell_type": "markdown",
      "source": [
        "**Question 1:** Write a Python program that asks the user for their age. If the age is greater than or equal to 18, print \"You are an adult.\" Otherwise, print \"You are a minor.\""
      ],
      "metadata": {
        "id": "6_vl9BFfOXWG"
      }
    },
    {
      "cell_type": "code",
      "source": [
        "age = int(input(\"Enter your age: \"))\n",
        "if age >= 18 :\n",
        "  print(\"You are an adult\")\n",
        "else:\n",
        "  print(\"You are a minor\")"
      ],
      "metadata": {
        "colab": {
          "base_uri": "https://localhost:8080/"
        },
        "id": "CAbJIkUPOcQs",
        "outputId": "4922b0eb-8d13-4586-d5eb-76afbfdbcd60"
      },
      "execution_count": null,
      "outputs": [
        {
          "output_type": "stream",
          "name": "stdout",
          "text": [
            "Enter your age: 20\n",
            "You are an adult\n"
          ]
        }
      ]
    },
    {
      "cell_type": "markdown",
      "source": [
        "**Question 2:** Write a Python program to print the numbers from 1 to 10 using a for loop."
      ],
      "metadata": {
        "id": "r_W1sWoQOezD"
      }
    },
    {
      "cell_type": "code",
      "source": [
        "for i in range(1,11):\n",
        "  print(i)"
      ],
      "metadata": {
        "colab": {
          "base_uri": "https://localhost:8080/"
        },
        "id": "__o_-ZodOhbo",
        "outputId": "cb7062c7-8392-4041-8209-6336e12cf944"
      },
      "execution_count": null,
      "outputs": [
        {
          "output_type": "stream",
          "name": "stdout",
          "text": [
            "1\n",
            "2\n",
            "3\n",
            "4\n",
            "5\n",
            "6\n",
            "7\n",
            "8\n",
            "9\n",
            "10\n"
          ]
        }
      ]
    },
    {
      "cell_type": "markdown",
      "source": [
        "**Question 3:** Write a Python program to calculate the sum of all even numbers from 1 to 20 using a while loop."
      ],
      "metadata": {
        "id": "2q7OyBe_Oiud"
      }
    },
    {
      "cell_type": "code",
      "source": [
        "i=1\n",
        "sum = 0\n",
        "while i<21 :\n",
        "  if i%2 == 0 :\n",
        "    sum+=i\n",
        "  i+=1\n",
        "print(\"Sum of even numbers from 1 to 20: \",sum)"
      ],
      "metadata": {
        "colab": {
          "base_uri": "https://localhost:8080/"
        },
        "id": "r3uY0I6GOlB3",
        "outputId": "541cbe39-fd68-4aa1-d42c-019883b32a98"
      },
      "execution_count": null,
      "outputs": [
        {
          "output_type": "stream",
          "name": "stdout",
          "text": [
            "Sum of even numbers from 1 to 20:  110\n"
          ]
        }
      ]
    },
    {
      "cell_type": "markdown",
      "source": [
        "**Question 4:** Define a function called multiply that takes two parameters and returns their product."
      ],
      "metadata": {
        "id": "YZprv77SOowG"
      }
    },
    {
      "cell_type": "code",
      "source": [
        "a = int(input(\"a = \"))\n",
        "b = int(input(\"b = \"))\n",
        "def multiply(a,b):\n",
        "  return a*b\n",
        "multiply(a,b)"
      ],
      "metadata": {
        "id": "6Y0USeerOrUN",
        "colab": {
          "base_uri": "https://localhost:8080/"
        },
        "outputId": "8ad8c37b-aac8-462f-8be3-c582f42eed4e"
      },
      "execution_count": null,
      "outputs": [
        {
          "name": "stdout",
          "output_type": "stream",
          "text": [
            "a = 2\n",
            "b = 3\n"
          ]
        },
        {
          "output_type": "execute_result",
          "data": {
            "text/plain": [
              "6"
            ]
          },
          "metadata": {},
          "execution_count": 10
        }
      ]
    },
    {
      "cell_type": "markdown",
      "source": [
        "**Question 5:** Create a class called Person with a constructor method that initializes the name and age attributes. Then, create an instance of the Person class and print the person's name and age."
      ],
      "metadata": {
        "id": "0GOwbOCPOtBN"
      }
    },
    {
      "cell_type": "code",
      "source": [
        "class Person:\n",
        "    def __init__(self, name, age):\n",
        "        self.name = name\n",
        "        self.age = age\n",
        "\n",
        "name = str(input()) # Alice\n",
        "age = int(input()) # 25\n",
        "person = Person(name, age)\n",
        "print(\"Name:\", person.name)\n",
        "print(\"Age:\", person.age)\n"
      ],
      "metadata": {
        "colab": {
          "base_uri": "https://localhost:8080/"
        },
        "id": "WcAY-oMeOv1v",
        "outputId": "e5e991c3-59d0-49a4-882d-0611bf7e341c"
      },
      "execution_count": null,
      "outputs": [
        {
          "output_type": "stream",
          "name": "stdout",
          "text": [
            "Alice\n",
            "25\n",
            "Name: Alice\n",
            "Age: 25\n"
          ]
        }
      ]
    },
    {
      "cell_type": "markdown",
      "source": [
        "**Question 6:** Create a subclass called `Student` that inherits from the `Person` class. Add an additional attribute called `student_id` to the `Student` class. Create an instance of the `Student` class and print the student's name, age, and student ID."
      ],
      "metadata": {
        "id": "JMq7nrdROxIF"
      }
    },
    {
      "cell_type": "code",
      "source": [
        "class Person:\n",
        "    def __init__(self, name, age):\n",
        "        self.name = name\n",
        "        self.age = age\n",
        "\n",
        "class Student(Person):\n",
        "    def __init__(self, name, age, student_id):\n",
        "        super().__init__(name, age)\n",
        "        self.student_id = student_id\n",
        "name = str(input()) # Bob\n",
        "age = int(input()) # 20\n",
        "student_id = int(input()) # 12345\n",
        "student = Student(name, age, student_id)\n",
        "print(\"Name:\", student.name)\n",
        "print(\"Age:\", student.age)\n",
        "print(\"Student ID:\", student.student_id)\n"
      ],
      "metadata": {
        "colab": {
          "base_uri": "https://localhost:8080/"
        },
        "id": "vpEpTshwO8Xi",
        "outputId": "c3ba8025-c445-40f0-9cf9-8fec62564501"
      },
      "execution_count": null,
      "outputs": [
        {
          "output_type": "stream",
          "name": "stdout",
          "text": [
            "Bob\n",
            "20\n",
            "12345\n",
            "Name: Bob\n",
            "Age: 20\n",
            "Student ID: 12345\n"
          ]
        }
      ]
    },
    {
      "cell_type": "markdown",
      "source": [
        "**Question 7:** Write a Python program that prompts the user to enter a number and then prints whether the number is prime or not. Create a function called `is_prime` that takes an integer as an argument and returns True if it's prime, and False otherwise."
      ],
      "metadata": {
        "id": "5TxkMVTOPIRF"
      }
    },
    {
      "cell_type": "code",
      "source": [
        "def is_prime(num):\n",
        "  if num < 2 :\n",
        "    return False\n",
        "  else:\n",
        "    for i in range(2,num):\n",
        "      if num % i == 0 :\n",
        "        return False\n",
        "      else:\n",
        "        return True\n",
        "num = int(input(\"Enter a number: \")) # 13\n",
        "\n",
        "if is_prime(num):\n",
        "    print(num, \"is a prime number.\")\n",
        "else:\n",
        "    print(num, \"is not a prime number.\")\n"
      ],
      "metadata": {
        "colab": {
          "base_uri": "https://localhost:8080/"
        },
        "id": "UELQoZzKPNLm",
        "outputId": "0ba6ca95-45f6-4c9c-a10f-89c51f4a76fd"
      },
      "execution_count": null,
      "outputs": [
        {
          "output_type": "stream",
          "name": "stdout",
          "text": [
            "Enter a number: 13\n",
            "13 is a prime number.\n"
          ]
        }
      ]
    },
    {
      "cell_type": "markdown",
      "source": [
        "**Question 8:** Write a Python program that calculates the factorial of a given number using a recursive function. Prompt the user for an integer input and print its factorial."
      ],
      "metadata": {
        "id": "HR0mHW5nPP-l"
      }
    },
    {
      "cell_type": "code",
      "source": [
        "def factorial(num):\n",
        "  i=1\n",
        "  fac = 1\n",
        "  while i <= num :\n",
        "    fac = i * fac\n",
        "    i += 1\n",
        "\n",
        "  return fac\n",
        "\n",
        "num = int(input(\"Enter an integer: \")) #10\n",
        "print(\"Factorial of\",num ,\"is\", factorial(num))"
      ],
      "metadata": {
        "colab": {
          "base_uri": "https://localhost:8080/"
        },
        "id": "gm5j51vlPS4y",
        "outputId": "f80ac1cc-2386-48a2-cc70-6a6548a10658"
      },
      "execution_count": null,
      "outputs": [
        {
          "output_type": "stream",
          "name": "stdout",
          "text": [
            "Enter an integer: 10\n",
            "Factorial of 10 is 3628800\n"
          ]
        }
      ]
    },
    {
      "cell_type": "markdown",
      "source": [
        "**Question 9:** Create a class called `Rectangle` with attributes `width` and `height`. Add a method `calculate_area` that calculates and returns the area of the rectangle. Create an instance of the `Rectangle` class and print its area."
      ],
      "metadata": {
        "id": "KgQI1zFkPcRb"
      }
    },
    {
      "cell_type": "code",
      "source": [
        "class Rectangle :\n",
        "  def __init__(self , width , height):\n",
        "    self.width=width\n",
        "    self.height=height\n",
        "  def area(self):\n",
        "    return self.width * self.height\n",
        "\n",
        "a = int(input())\n",
        "b = int(input())\n",
        "rectangle = Rectangle(a,b)\n",
        "print(\"Area of the rectangle:\",rectangle.area())"
      ],
      "metadata": {
        "colab": {
          "base_uri": "https://localhost:8080/"
        },
        "id": "S2yIbrGMPUHN",
        "outputId": "f7984591-ecb3-425c-b11c-54d6a2caa165"
      },
      "execution_count": null,
      "outputs": [
        {
          "output_type": "stream",
          "name": "stdout",
          "text": [
            "4\n",
            "10\n",
            "Area of the rectangle: 40\n"
          ]
        }
      ]
    },
    {
      "cell_type": "markdown",
      "source": [
        "**Question 10:** Create a subclass called `Square` that inherits from the `Rectangle` class. Add a method `calculate_perimeter` to the `Square` class that calculates and returns the perimeter of the square. Create an instance of the `Square` class and print its perimeter."
      ],
      "metadata": {
        "id": "hZJpUWXiPnUy"
      }
    },
    {
      "cell_type": "code",
      "source": [
        "class Rectangle :\n",
        "  def __init__(self , width , height):\n",
        "    self.width=width\n",
        "    self.height=height\n",
        "\n",
        "class Square(Rectangle):\n",
        "  def __init__(self, line):\n",
        "     super().__init__(line, line)\n",
        "  def Perimeter(self):\n",
        "    return 4 * self.width\n",
        "\n",
        "a = int(input())\n",
        "square = Square(a)\n",
        "print(\"Perimeter of the square:\",square.Perimeter())"
      ],
      "metadata": {
        "colab": {
          "base_uri": "https://localhost:8080/"
        },
        "id": "rrvDKau6Prgv",
        "outputId": "9131b19d-64cc-40d4-b0eb-65608d188ebe"
      },
      "execution_count": null,
      "outputs": [
        {
          "output_type": "stream",
          "name": "stdout",
          "text": [
            "4\n",
            "Perimeter of the square: 16\n"
          ]
        }
      ]
    },
    {
      "cell_type": "markdown",
      "source": [
        "**Question 11:** Create a base class called `Animal` with attributes `name` and `species`. Provide a constructor to initialize these attributes and a method called `speak` that prints a generic message like \"The animal makes a sound.\""
      ],
      "metadata": {
        "id": "bAvC4oKdPySI"
      }
    },
    {
      "cell_type": "code",
      "source": [
        "class Animal:\n",
        "  def __init__(self , name , species):\n",
        "     self.name=name\n",
        "     self.species=species\n",
        "  def speak(self):\n",
        "     print(\"The animal makes a sound\")\n",
        "\n",
        "name = str(input())\n",
        "species = str(input())\n",
        "animal = Animal(name , species)\n",
        "animal.speak()"
      ],
      "metadata": {
        "id": "ReV5Ul0ZP-n7",
        "colab": {
          "base_uri": "https://localhost:8080/"
        },
        "outputId": "86597213-ea7d-449e-a662-512f368adb8c"
      },
      "execution_count": null,
      "outputs": [
        {
          "output_type": "stream",
          "name": "stdout",
          "text": [
            "snake\n",
            "anaconda\n",
            "The animal makes a sound\n"
          ]
        }
      ]
    },
    {
      "cell_type": "markdown",
      "source": [
        "**Question 12:** Create a subclass called `Dog` that inherits from the `Animal` class. Add a constructor to initialize the `name`, `species`, and `breed` attributes specific to dogs. Override the `speak` method in the `Dog` class to print \"Woof!\""
      ],
      "metadata": {
        "id": "B27SF_YbQANC"
      }
    },
    {
      "cell_type": "code",
      "source": [
        "class Animal:\n",
        "  def __init__(self , name , species):\n",
        "     self.name=name\n",
        "     self.species=species\n",
        "  def speak(self):\n",
        "     print(\"The animal makes a sound\")\n",
        "class Dog(Animal):\n",
        "  def __init__(self, name, species, breed):\n",
        "     super().__init__(name, species)\n",
        "     self.breed=breed\n",
        "  def speak(self):\n",
        "     print(\"Woof\")\n",
        "\n",
        "name = str(input())\n",
        "species = str(input())\n",
        "breed = str(input())\n",
        "dog = Dog(name , species , breed)\n",
        "dog.speak()"
      ],
      "metadata": {
        "id": "3Gn8dy-QQIGA",
        "colab": {
          "base_uri": "https://localhost:8080/"
        },
        "outputId": "3a85d22f-fd3e-4474-8310-12eb771d9a8e"
      },
      "execution_count": null,
      "outputs": [
        {
          "output_type": "stream",
          "name": "stdout",
          "text": [
            "ben\n",
            "german\n",
            "germany\n",
            "Woof\n"
          ]
        }
      ]
    },
    {
      "cell_type": "markdown",
      "source": [
        "**Question 13:** Create another subclass called `Cat` that inherits from the `Animal` class. Add a constructor to initialize the `name`, `species`, and `color` attributes specific to cats. Override the `speak` method in the `Cat` class to print \"Meow!\""
      ],
      "metadata": {
        "id": "evEYwP3GQKHU"
      }
    },
    {
      "cell_type": "code",
      "source": [
        "\n",
        "class Animal:\n",
        "  def __init__(self , name , species):\n",
        "     self.name=name\n",
        "     self.species=species\n",
        "  def speak(self):\n",
        "     print(\"The animal makes a sound\")\n",
        "class Cat(Animal):\n",
        "  def __init__(self, name, species, color):\n",
        "     super().__init__(name, species)\n",
        "     self.color=color\n",
        "  def speak(self):\n",
        "     print(\"Meow\")\n",
        "\n",
        "name = str(input())\n",
        "species = str(input())\n",
        "color = str(input())\n",
        "cat = Cat(name , species , color)\n",
        "cat.speak()"
      ],
      "metadata": {
        "id": "OOuq8AP2QT9W",
        "colab": {
          "base_uri": "https://localhost:8080/"
        },
        "outputId": "504e7adf-f97c-4d24-b8ec-d52affc2466d"
      },
      "execution_count": null,
      "outputs": [
        {
          "output_type": "stream",
          "name": "stdout",
          "text": [
            "mia\n",
            "persian\n",
            "white\n",
            "Meow\n"
          ]
        }
      ]
    },
    {
      "cell_type": "markdown",
      "source": [
        "**Question 14:** Create instances of both the `Dog` and `Cat` classes and call their `speak` methods to demonstrate polymorphism."
      ],
      "metadata": {
        "id": "FPiIuweTQU0D"
      }
    },
    {
      "cell_type": "code",
      "source": [
        "class Animal:\n",
        "  def __init__(self , name , species):\n",
        "     self.name=name\n",
        "     self.species=species\n",
        "  def speak(self):\n",
        "     print(\"The animal makes a sound\")\n",
        "class Dog(Animal):\n",
        "  def __init__(self, name, species, breed):\n",
        "     super().__init__(name, species)\n",
        "     self.breed=breed\n",
        "  def speak(self):\n",
        "     print(self.name,\"the\", self.species,\"says Woof!\")\n",
        "class Cat(Animal):\n",
        "  def __init__(self, name, species, color):\n",
        "     super().__init__(name, species)\n",
        "     self.color=color\n",
        "  def speak(self):\n",
        "     print(self.name,\"the\", self.species,\"says Meow!\")\n",
        "\n",
        "dog = Dog(\"Buddy\" , \"Golden Retriever\" , \"germany\")\n",
        "cat = Cat(\"Whiskers\" , \"Calico cat\" , \"white\")\n",
        "dog.speak()\n",
        "cat.speak()\n"
      ],
      "metadata": {
        "colab": {
          "base_uri": "https://localhost:8080/"
        },
        "id": "YmUNsj72QZ4z",
        "outputId": "22af3925-68a6-4bdb-de07-4e568c042203"
      },
      "execution_count": null,
      "outputs": [
        {
          "output_type": "stream",
          "name": "stdout",
          "text": [
            "Buddy the Golden Retriever says Woof!\n",
            "Whiskers the Calico cat says Meow!\n"
          ]
        }
      ]
    }
  ]
}