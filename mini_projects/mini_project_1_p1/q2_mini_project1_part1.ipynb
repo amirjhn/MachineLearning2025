{
  "nbformat": 4,
  "nbformat_minor": 0,
  "metadata": {
    "colab": {
      "provenance": [],
      "authorship_tag": "ABX9TyOSBeNCAI0ogDJXR4cGjJ3c",
      "include_colab_link": true
    },
    "kernelspec": {
      "name": "python3",
      "display_name": "Python 3"
    },
    "language_info": {
      "name": "python"
    }
  },
  "cells": [
    {
      "cell_type": "markdown",
      "metadata": {
        "id": "view-in-github",
        "colab_type": "text"
      },
      "source": [
        "<a href=\"https://colab.research.google.com/github/amirjhn/MachineLearning2025/blob/main/mini_projects/mini_project_1_p1/q2_mini_project1_part1.ipynb\" target=\"_parent\"><img src=\"https://colab.research.google.com/assets/colab-badge.svg\" alt=\"Open In Colab\"/></a>"
      ]
    },
    {
      "cell_type": "code",
      "execution_count": null,
      "metadata": {
        "colab": {
          "base_uri": "https://localhost:8080/"
        },
        "id": "kRG9zouMTtr2",
        "outputId": "2de01e72-397e-443d-dfa6-ef33aa5942ec"
      },
      "outputs": [
        {
          "output_type": "stream",
          "name": "stdout",
          "text": [
            "Downloading...\n",
            "From: https://drive.google.com/uc?id=172qsBrIM5UpTaRXWo2Yg6NN1fgw10t5w\n",
            "To: /content/data_banknote_authentication.txt\n",
            "\r  0% 0.00/46.4k [00:00<?, ?B/s]\r100% 46.4k/46.4k [00:00<00:00, 91.5MB/s]\n"
          ]
        }
      ],
      "source": [
        "# part 1\n",
        "#https://drive.google.com/file/d/172qsBrIM5UpTaRXWo2Yg6NN1fgw10t5w/view?usp=sharing\n",
        "!gdown 172qsBrIM5UpTaRXWo2Yg6NN1fgw10t5w"
      ]
    },
    {
      "cell_type": "code",
      "source": [
        "import pandas as pd\n",
        "import numpy as np\n",
        "import matplotlib.pyplot as plt\n",
        "from sklearn.utils import shuffle\n",
        "from sklearn.datasets import make_classification\n",
        "from sklearn.linear_model import LogisticRegression , SGDClassifier\n",
        "from sklearn.model_selection import train_test_split\n",
        "from sklearn.metrics import accuracy_score, confusion_matrix, classification_report"
      ],
      "metadata": {
        "id": "UvMl5iM5UY6H"
      },
      "execution_count": null,
      "outputs": []
    },
    {
      "cell_type": "code",
      "source": [
        "'''\n",
        "read_file = pd.read_csv (r'/content/data_banknote_authentication.txt')\n",
        "read_file.to_csv (r'/content/data_banknote_authentication.csv')\n",
        "df = pd.read_csv(\"/content/data_banknote_authentication.csv\")\n",
        "df\n",
        "'''"
      ],
      "metadata": {
        "colab": {
          "base_uri": "https://localhost:8080/",
          "height": 424
        },
        "id": "2u5fM4whUZ7N",
        "outputId": "5b5d0d67-b352-4077-b9bd-a284047aa3fd"
      },
      "execution_count": null,
      "outputs": [
        {
          "output_type": "execute_result",
          "data": {
            "text/plain": [
              "      Unnamed: 0   3.6216    8.6661  -2.8073  -0.44699  0\n",
              "0              0  4.54590   8.16740  -2.4586  -1.46210  0\n",
              "1              1  3.86600  -2.63830   1.9242   0.10645  0\n",
              "2              2  3.45660   9.52280  -4.0112  -3.59440  0\n",
              "3              3  0.32924  -4.45520   4.5718  -0.98880  0\n",
              "4              4  4.36840   9.67180  -3.9606  -3.16250  0\n",
              "...          ...      ...       ...      ...       ... ..\n",
              "1366        1366  0.40614   1.34920  -1.4501  -0.55949  1\n",
              "1367        1367 -1.38870  -4.87730   6.4774   0.34179  1\n",
              "1368        1368 -3.75030 -13.45860  17.5932  -2.77710  1\n",
              "1369        1369 -3.56370  -8.38270  12.3930  -1.28230  1\n",
              "1370        1370 -2.54190  -0.65804   2.6842   1.19520  1\n",
              "\n",
              "[1371 rows x 6 columns]"
            ],
            "text/html": [
              "\n",
              "  <div id=\"df-78f03330-400f-46ec-a703-380bebc4a9e5\" class=\"colab-df-container\">\n",
              "    <div>\n",
              "<style scoped>\n",
              "    .dataframe tbody tr th:only-of-type {\n",
              "        vertical-align: middle;\n",
              "    }\n",
              "\n",
              "    .dataframe tbody tr th {\n",
              "        vertical-align: top;\n",
              "    }\n",
              "\n",
              "    .dataframe thead th {\n",
              "        text-align: right;\n",
              "    }\n",
              "</style>\n",
              "<table border=\"1\" class=\"dataframe\">\n",
              "  <thead>\n",
              "    <tr style=\"text-align: right;\">\n",
              "      <th></th>\n",
              "      <th>Unnamed: 0</th>\n",
              "      <th>3.6216</th>\n",
              "      <th>8.6661</th>\n",
              "      <th>-2.8073</th>\n",
              "      <th>-0.44699</th>\n",
              "      <th>0</th>\n",
              "    </tr>\n",
              "  </thead>\n",
              "  <tbody>\n",
              "    <tr>\n",
              "      <th>0</th>\n",
              "      <td>0</td>\n",
              "      <td>4.54590</td>\n",
              "      <td>8.16740</td>\n",
              "      <td>-2.4586</td>\n",
              "      <td>-1.46210</td>\n",
              "      <td>0</td>\n",
              "    </tr>\n",
              "    <tr>\n",
              "      <th>1</th>\n",
              "      <td>1</td>\n",
              "      <td>3.86600</td>\n",
              "      <td>-2.63830</td>\n",
              "      <td>1.9242</td>\n",
              "      <td>0.10645</td>\n",
              "      <td>0</td>\n",
              "    </tr>\n",
              "    <tr>\n",
              "      <th>2</th>\n",
              "      <td>2</td>\n",
              "      <td>3.45660</td>\n",
              "      <td>9.52280</td>\n",
              "      <td>-4.0112</td>\n",
              "      <td>-3.59440</td>\n",
              "      <td>0</td>\n",
              "    </tr>\n",
              "    <tr>\n",
              "      <th>3</th>\n",
              "      <td>3</td>\n",
              "      <td>0.32924</td>\n",
              "      <td>-4.45520</td>\n",
              "      <td>4.5718</td>\n",
              "      <td>-0.98880</td>\n",
              "      <td>0</td>\n",
              "    </tr>\n",
              "    <tr>\n",
              "      <th>4</th>\n",
              "      <td>4</td>\n",
              "      <td>4.36840</td>\n",
              "      <td>9.67180</td>\n",
              "      <td>-3.9606</td>\n",
              "      <td>-3.16250</td>\n",
              "      <td>0</td>\n",
              "    </tr>\n",
              "    <tr>\n",
              "      <th>...</th>\n",
              "      <td>...</td>\n",
              "      <td>...</td>\n",
              "      <td>...</td>\n",
              "      <td>...</td>\n",
              "      <td>...</td>\n",
              "      <td>...</td>\n",
              "    </tr>\n",
              "    <tr>\n",
              "      <th>1366</th>\n",
              "      <td>1366</td>\n",
              "      <td>0.40614</td>\n",
              "      <td>1.34920</td>\n",
              "      <td>-1.4501</td>\n",
              "      <td>-0.55949</td>\n",
              "      <td>1</td>\n",
              "    </tr>\n",
              "    <tr>\n",
              "      <th>1367</th>\n",
              "      <td>1367</td>\n",
              "      <td>-1.38870</td>\n",
              "      <td>-4.87730</td>\n",
              "      <td>6.4774</td>\n",
              "      <td>0.34179</td>\n",
              "      <td>1</td>\n",
              "    </tr>\n",
              "    <tr>\n",
              "      <th>1368</th>\n",
              "      <td>1368</td>\n",
              "      <td>-3.75030</td>\n",
              "      <td>-13.45860</td>\n",
              "      <td>17.5932</td>\n",
              "      <td>-2.77710</td>\n",
              "      <td>1</td>\n",
              "    </tr>\n",
              "    <tr>\n",
              "      <th>1369</th>\n",
              "      <td>1369</td>\n",
              "      <td>-3.56370</td>\n",
              "      <td>-8.38270</td>\n",
              "      <td>12.3930</td>\n",
              "      <td>-1.28230</td>\n",
              "      <td>1</td>\n",
              "    </tr>\n",
              "    <tr>\n",
              "      <th>1370</th>\n",
              "      <td>1370</td>\n",
              "      <td>-2.54190</td>\n",
              "      <td>-0.65804</td>\n",
              "      <td>2.6842</td>\n",
              "      <td>1.19520</td>\n",
              "      <td>1</td>\n",
              "    </tr>\n",
              "  </tbody>\n",
              "</table>\n",
              "<p>1371 rows × 6 columns</p>\n",
              "</div>\n",
              "    <div class=\"colab-df-buttons\">\n",
              "\n",
              "  <div class=\"colab-df-container\">\n",
              "    <button class=\"colab-df-convert\" onclick=\"convertToInteractive('df-78f03330-400f-46ec-a703-380bebc4a9e5')\"\n",
              "            title=\"Convert this dataframe to an interactive table.\"\n",
              "            style=\"display:none;\">\n",
              "\n",
              "  <svg xmlns=\"http://www.w3.org/2000/svg\" height=\"24px\" viewBox=\"0 -960 960 960\">\n",
              "    <path d=\"M120-120v-720h720v720H120Zm60-500h600v-160H180v160Zm220 220h160v-160H400v160Zm0 220h160v-160H400v160ZM180-400h160v-160H180v160Zm440 0h160v-160H620v160ZM180-180h160v-160H180v160Zm440 0h160v-160H620v160Z\"/>\n",
              "  </svg>\n",
              "    </button>\n",
              "\n",
              "  <style>\n",
              "    .colab-df-container {\n",
              "      display:flex;\n",
              "      gap: 12px;\n",
              "    }\n",
              "\n",
              "    .colab-df-convert {\n",
              "      background-color: #E8F0FE;\n",
              "      border: none;\n",
              "      border-radius: 50%;\n",
              "      cursor: pointer;\n",
              "      display: none;\n",
              "      fill: #1967D2;\n",
              "      height: 32px;\n",
              "      padding: 0 0 0 0;\n",
              "      width: 32px;\n",
              "    }\n",
              "\n",
              "    .colab-df-convert:hover {\n",
              "      background-color: #E2EBFA;\n",
              "      box-shadow: 0px 1px 2px rgba(60, 64, 67, 0.3), 0px 1px 3px 1px rgba(60, 64, 67, 0.15);\n",
              "      fill: #174EA6;\n",
              "    }\n",
              "\n",
              "    .colab-df-buttons div {\n",
              "      margin-bottom: 4px;\n",
              "    }\n",
              "\n",
              "    [theme=dark] .colab-df-convert {\n",
              "      background-color: #3B4455;\n",
              "      fill: #D2E3FC;\n",
              "    }\n",
              "\n",
              "    [theme=dark] .colab-df-convert:hover {\n",
              "      background-color: #434B5C;\n",
              "      box-shadow: 0px 1px 3px 1px rgba(0, 0, 0, 0.15);\n",
              "      filter: drop-shadow(0px 1px 2px rgba(0, 0, 0, 0.3));\n",
              "      fill: #FFFFFF;\n",
              "    }\n",
              "  </style>\n",
              "\n",
              "    <script>\n",
              "      const buttonEl =\n",
              "        document.querySelector('#df-78f03330-400f-46ec-a703-380bebc4a9e5 button.colab-df-convert');\n",
              "      buttonEl.style.display =\n",
              "        google.colab.kernel.accessAllowed ? 'block' : 'none';\n",
              "\n",
              "      async function convertToInteractive(key) {\n",
              "        const element = document.querySelector('#df-78f03330-400f-46ec-a703-380bebc4a9e5');\n",
              "        const dataTable =\n",
              "          await google.colab.kernel.invokeFunction('convertToInteractive',\n",
              "                                                    [key], {});\n",
              "        if (!dataTable) return;\n",
              "\n",
              "        const docLinkHtml = 'Like what you see? Visit the ' +\n",
              "          '<a target=\"_blank\" href=https://colab.research.google.com/notebooks/data_table.ipynb>data table notebook</a>'\n",
              "          + ' to learn more about interactive tables.';\n",
              "        element.innerHTML = '';\n",
              "        dataTable['output_type'] = 'display_data';\n",
              "        await google.colab.output.renderOutput(dataTable, element);\n",
              "        const docLink = document.createElement('div');\n",
              "        docLink.innerHTML = docLinkHtml;\n",
              "        element.appendChild(docLink);\n",
              "      }\n",
              "    </script>\n",
              "  </div>\n",
              "\n",
              "\n",
              "<div id=\"df-1e556c3b-9e05-4f4b-9570-650f833afb29\">\n",
              "  <button class=\"colab-df-quickchart\" onclick=\"quickchart('df-1e556c3b-9e05-4f4b-9570-650f833afb29')\"\n",
              "            title=\"Suggest charts\"\n",
              "            style=\"display:none;\">\n",
              "\n",
              "<svg xmlns=\"http://www.w3.org/2000/svg\" height=\"24px\"viewBox=\"0 0 24 24\"\n",
              "     width=\"24px\">\n",
              "    <g>\n",
              "        <path d=\"M19 3H5c-1.1 0-2 .9-2 2v14c0 1.1.9 2 2 2h14c1.1 0 2-.9 2-2V5c0-1.1-.9-2-2-2zM9 17H7v-7h2v7zm4 0h-2V7h2v10zm4 0h-2v-4h2v4z\"/>\n",
              "    </g>\n",
              "</svg>\n",
              "  </button>\n",
              "\n",
              "<style>\n",
              "  .colab-df-quickchart {\n",
              "      --bg-color: #E8F0FE;\n",
              "      --fill-color: #1967D2;\n",
              "      --hover-bg-color: #E2EBFA;\n",
              "      --hover-fill-color: #174EA6;\n",
              "      --disabled-fill-color: #AAA;\n",
              "      --disabled-bg-color: #DDD;\n",
              "  }\n",
              "\n",
              "  [theme=dark] .colab-df-quickchart {\n",
              "      --bg-color: #3B4455;\n",
              "      --fill-color: #D2E3FC;\n",
              "      --hover-bg-color: #434B5C;\n",
              "      --hover-fill-color: #FFFFFF;\n",
              "      --disabled-bg-color: #3B4455;\n",
              "      --disabled-fill-color: #666;\n",
              "  }\n",
              "\n",
              "  .colab-df-quickchart {\n",
              "    background-color: var(--bg-color);\n",
              "    border: none;\n",
              "    border-radius: 50%;\n",
              "    cursor: pointer;\n",
              "    display: none;\n",
              "    fill: var(--fill-color);\n",
              "    height: 32px;\n",
              "    padding: 0;\n",
              "    width: 32px;\n",
              "  }\n",
              "\n",
              "  .colab-df-quickchart:hover {\n",
              "    background-color: var(--hover-bg-color);\n",
              "    box-shadow: 0 1px 2px rgba(60, 64, 67, 0.3), 0 1px 3px 1px rgba(60, 64, 67, 0.15);\n",
              "    fill: var(--button-hover-fill-color);\n",
              "  }\n",
              "\n",
              "  .colab-df-quickchart-complete:disabled,\n",
              "  .colab-df-quickchart-complete:disabled:hover {\n",
              "    background-color: var(--disabled-bg-color);\n",
              "    fill: var(--disabled-fill-color);\n",
              "    box-shadow: none;\n",
              "  }\n",
              "\n",
              "  .colab-df-spinner {\n",
              "    border: 2px solid var(--fill-color);\n",
              "    border-color: transparent;\n",
              "    border-bottom-color: var(--fill-color);\n",
              "    animation:\n",
              "      spin 1s steps(1) infinite;\n",
              "  }\n",
              "\n",
              "  @keyframes spin {\n",
              "    0% {\n",
              "      border-color: transparent;\n",
              "      border-bottom-color: var(--fill-color);\n",
              "      border-left-color: var(--fill-color);\n",
              "    }\n",
              "    20% {\n",
              "      border-color: transparent;\n",
              "      border-left-color: var(--fill-color);\n",
              "      border-top-color: var(--fill-color);\n",
              "    }\n",
              "    30% {\n",
              "      border-color: transparent;\n",
              "      border-left-color: var(--fill-color);\n",
              "      border-top-color: var(--fill-color);\n",
              "      border-right-color: var(--fill-color);\n",
              "    }\n",
              "    40% {\n",
              "      border-color: transparent;\n",
              "      border-right-color: var(--fill-color);\n",
              "      border-top-color: var(--fill-color);\n",
              "    }\n",
              "    60% {\n",
              "      border-color: transparent;\n",
              "      border-right-color: var(--fill-color);\n",
              "    }\n",
              "    80% {\n",
              "      border-color: transparent;\n",
              "      border-right-color: var(--fill-color);\n",
              "      border-bottom-color: var(--fill-color);\n",
              "    }\n",
              "    90% {\n",
              "      border-color: transparent;\n",
              "      border-bottom-color: var(--fill-color);\n",
              "    }\n",
              "  }\n",
              "</style>\n",
              "\n",
              "  <script>\n",
              "    async function quickchart(key) {\n",
              "      const quickchartButtonEl =\n",
              "        document.querySelector('#' + key + ' button');\n",
              "      quickchartButtonEl.disabled = true;  // To prevent multiple clicks.\n",
              "      quickchartButtonEl.classList.add('colab-df-spinner');\n",
              "      try {\n",
              "        const charts = await google.colab.kernel.invokeFunction(\n",
              "            'suggestCharts', [key], {});\n",
              "      } catch (error) {\n",
              "        console.error('Error during call to suggestCharts:', error);\n",
              "      }\n",
              "      quickchartButtonEl.classList.remove('colab-df-spinner');\n",
              "      quickchartButtonEl.classList.add('colab-df-quickchart-complete');\n",
              "    }\n",
              "    (() => {\n",
              "      let quickchartButtonEl =\n",
              "        document.querySelector('#df-1e556c3b-9e05-4f4b-9570-650f833afb29 button');\n",
              "      quickchartButtonEl.style.display =\n",
              "        google.colab.kernel.accessAllowed ? 'block' : 'none';\n",
              "    })();\n",
              "  </script>\n",
              "</div>\n",
              "    </div>\n",
              "  </div>\n"
            ]
          },
          "metadata": {},
          "execution_count": 18
        }
      ]
    },
    {
      "cell_type": "code",
      "source": [
        "# part 2\n",
        "file = pd.read_csv (r'/content/data_banknote_authentication.txt')\n",
        "#file = read_file.to_csv (r'/content/data_banknote_authentication.csv')\n",
        "headerlist = ['part1' , 'part2','part3','part4','part5']\n",
        "file.to_csv(\"/content/data_banknote_authentication.csv\" ,header = headerlist)\n",
        "df = pd.read_csv(\"/content/data_banknote_authentication.csv\")\n",
        "df = shuffle(df)\n",
        "df"
      ],
      "metadata": {
        "colab": {
          "base_uri": "https://localhost:8080/",
          "height": 423
        },
        "id": "d1LTPEu7fUsm",
        "outputId": "47e68227-a0e5-4975-eb3f-69ba3c9d4742"
      },
      "execution_count": null,
      "outputs": [
        {
          "output_type": "execute_result",
          "data": {
            "text/plain": [
              "      Unnamed: 0    part1    part2    part3    part4  part5\n",
              "287          287  0.44125  2.94870  4.32250  0.71550      0\n",
              "1030        1030 -1.85540 -9.60350  7.77640 -0.97716      1\n",
              "420          420 -1.14970  1.29540  7.70100  0.62627      0\n",
              "107          107  3.10600  9.54140 -4.25360 -4.00300      0\n",
              "923          923  1.59040  2.21210 -3.11830 -0.11725      1\n",
              "...          ...      ...      ...      ...      ...    ...\n",
              "518          518  3.46690  6.87000 -1.05680 -0.73147      0\n",
              "908          908 -1.73220 -9.28280  7.71900 -1.71680      1\n",
              "589          589  4.63520 -3.00870  2.67730  1.21200      0\n",
              "444          444  3.18870 -3.41430  2.77420 -0.20260      0\n",
              "1122        1122  0.26637  0.73252 -0.67891  0.03533      1\n",
              "\n",
              "[1371 rows x 6 columns]"
            ],
            "text/html": [
              "\n",
              "  <div id=\"df-384e9c63-5d8d-4820-a05a-d04d65a16395\" class=\"colab-df-container\">\n",
              "    <div>\n",
              "<style scoped>\n",
              "    .dataframe tbody tr th:only-of-type {\n",
              "        vertical-align: middle;\n",
              "    }\n",
              "\n",
              "    .dataframe tbody tr th {\n",
              "        vertical-align: top;\n",
              "    }\n",
              "\n",
              "    .dataframe thead th {\n",
              "        text-align: right;\n",
              "    }\n",
              "</style>\n",
              "<table border=\"1\" class=\"dataframe\">\n",
              "  <thead>\n",
              "    <tr style=\"text-align: right;\">\n",
              "      <th></th>\n",
              "      <th>Unnamed: 0</th>\n",
              "      <th>part1</th>\n",
              "      <th>part2</th>\n",
              "      <th>part3</th>\n",
              "      <th>part4</th>\n",
              "      <th>part5</th>\n",
              "    </tr>\n",
              "  </thead>\n",
              "  <tbody>\n",
              "    <tr>\n",
              "      <th>287</th>\n",
              "      <td>287</td>\n",
              "      <td>0.44125</td>\n",
              "      <td>2.94870</td>\n",
              "      <td>4.32250</td>\n",
              "      <td>0.71550</td>\n",
              "      <td>0</td>\n",
              "    </tr>\n",
              "    <tr>\n",
              "      <th>1030</th>\n",
              "      <td>1030</td>\n",
              "      <td>-1.85540</td>\n",
              "      <td>-9.60350</td>\n",
              "      <td>7.77640</td>\n",
              "      <td>-0.97716</td>\n",
              "      <td>1</td>\n",
              "    </tr>\n",
              "    <tr>\n",
              "      <th>420</th>\n",
              "      <td>420</td>\n",
              "      <td>-1.14970</td>\n",
              "      <td>1.29540</td>\n",
              "      <td>7.70100</td>\n",
              "      <td>0.62627</td>\n",
              "      <td>0</td>\n",
              "    </tr>\n",
              "    <tr>\n",
              "      <th>107</th>\n",
              "      <td>107</td>\n",
              "      <td>3.10600</td>\n",
              "      <td>9.54140</td>\n",
              "      <td>-4.25360</td>\n",
              "      <td>-4.00300</td>\n",
              "      <td>0</td>\n",
              "    </tr>\n",
              "    <tr>\n",
              "      <th>923</th>\n",
              "      <td>923</td>\n",
              "      <td>1.59040</td>\n",
              "      <td>2.21210</td>\n",
              "      <td>-3.11830</td>\n",
              "      <td>-0.11725</td>\n",
              "      <td>1</td>\n",
              "    </tr>\n",
              "    <tr>\n",
              "      <th>...</th>\n",
              "      <td>...</td>\n",
              "      <td>...</td>\n",
              "      <td>...</td>\n",
              "      <td>...</td>\n",
              "      <td>...</td>\n",
              "      <td>...</td>\n",
              "    </tr>\n",
              "    <tr>\n",
              "      <th>518</th>\n",
              "      <td>518</td>\n",
              "      <td>3.46690</td>\n",
              "      <td>6.87000</td>\n",
              "      <td>-1.05680</td>\n",
              "      <td>-0.73147</td>\n",
              "      <td>0</td>\n",
              "    </tr>\n",
              "    <tr>\n",
              "      <th>908</th>\n",
              "      <td>908</td>\n",
              "      <td>-1.73220</td>\n",
              "      <td>-9.28280</td>\n",
              "      <td>7.71900</td>\n",
              "      <td>-1.71680</td>\n",
              "      <td>1</td>\n",
              "    </tr>\n",
              "    <tr>\n",
              "      <th>589</th>\n",
              "      <td>589</td>\n",
              "      <td>4.63520</td>\n",
              "      <td>-3.00870</td>\n",
              "      <td>2.67730</td>\n",
              "      <td>1.21200</td>\n",
              "      <td>0</td>\n",
              "    </tr>\n",
              "    <tr>\n",
              "      <th>444</th>\n",
              "      <td>444</td>\n",
              "      <td>3.18870</td>\n",
              "      <td>-3.41430</td>\n",
              "      <td>2.77420</td>\n",
              "      <td>-0.20260</td>\n",
              "      <td>0</td>\n",
              "    </tr>\n",
              "    <tr>\n",
              "      <th>1122</th>\n",
              "      <td>1122</td>\n",
              "      <td>0.26637</td>\n",
              "      <td>0.73252</td>\n",
              "      <td>-0.67891</td>\n",
              "      <td>0.03533</td>\n",
              "      <td>1</td>\n",
              "    </tr>\n",
              "  </tbody>\n",
              "</table>\n",
              "<p>1371 rows × 6 columns</p>\n",
              "</div>\n",
              "    <div class=\"colab-df-buttons\">\n",
              "\n",
              "  <div class=\"colab-df-container\">\n",
              "    <button class=\"colab-df-convert\" onclick=\"convertToInteractive('df-384e9c63-5d8d-4820-a05a-d04d65a16395')\"\n",
              "            title=\"Convert this dataframe to an interactive table.\"\n",
              "            style=\"display:none;\">\n",
              "\n",
              "  <svg xmlns=\"http://www.w3.org/2000/svg\" height=\"24px\" viewBox=\"0 -960 960 960\">\n",
              "    <path d=\"M120-120v-720h720v720H120Zm60-500h600v-160H180v160Zm220 220h160v-160H400v160Zm0 220h160v-160H400v160ZM180-400h160v-160H180v160Zm440 0h160v-160H620v160ZM180-180h160v-160H180v160Zm440 0h160v-160H620v160Z\"/>\n",
              "  </svg>\n",
              "    </button>\n",
              "\n",
              "  <style>\n",
              "    .colab-df-container {\n",
              "      display:flex;\n",
              "      gap: 12px;\n",
              "    }\n",
              "\n",
              "    .colab-df-convert {\n",
              "      background-color: #E8F0FE;\n",
              "      border: none;\n",
              "      border-radius: 50%;\n",
              "      cursor: pointer;\n",
              "      display: none;\n",
              "      fill: #1967D2;\n",
              "      height: 32px;\n",
              "      padding: 0 0 0 0;\n",
              "      width: 32px;\n",
              "    }\n",
              "\n",
              "    .colab-df-convert:hover {\n",
              "      background-color: #E2EBFA;\n",
              "      box-shadow: 0px 1px 2px rgba(60, 64, 67, 0.3), 0px 1px 3px 1px rgba(60, 64, 67, 0.15);\n",
              "      fill: #174EA6;\n",
              "    }\n",
              "\n",
              "    .colab-df-buttons div {\n",
              "      margin-bottom: 4px;\n",
              "    }\n",
              "\n",
              "    [theme=dark] .colab-df-convert {\n",
              "      background-color: #3B4455;\n",
              "      fill: #D2E3FC;\n",
              "    }\n",
              "\n",
              "    [theme=dark] .colab-df-convert:hover {\n",
              "      background-color: #434B5C;\n",
              "      box-shadow: 0px 1px 3px 1px rgba(0, 0, 0, 0.15);\n",
              "      filter: drop-shadow(0px 1px 2px rgba(0, 0, 0, 0.3));\n",
              "      fill: #FFFFFF;\n",
              "    }\n",
              "  </style>\n",
              "\n",
              "    <script>\n",
              "      const buttonEl =\n",
              "        document.querySelector('#df-384e9c63-5d8d-4820-a05a-d04d65a16395 button.colab-df-convert');\n",
              "      buttonEl.style.display =\n",
              "        google.colab.kernel.accessAllowed ? 'block' : 'none';\n",
              "\n",
              "      async function convertToInteractive(key) {\n",
              "        const element = document.querySelector('#df-384e9c63-5d8d-4820-a05a-d04d65a16395');\n",
              "        const dataTable =\n",
              "          await google.colab.kernel.invokeFunction('convertToInteractive',\n",
              "                                                    [key], {});\n",
              "        if (!dataTable) return;\n",
              "\n",
              "        const docLinkHtml = 'Like what you see? Visit the ' +\n",
              "          '<a target=\"_blank\" href=https://colab.research.google.com/notebooks/data_table.ipynb>data table notebook</a>'\n",
              "          + ' to learn more about interactive tables.';\n",
              "        element.innerHTML = '';\n",
              "        dataTable['output_type'] = 'display_data';\n",
              "        await google.colab.output.renderOutput(dataTable, element);\n",
              "        const docLink = document.createElement('div');\n",
              "        docLink.innerHTML = docLinkHtml;\n",
              "        element.appendChild(docLink);\n",
              "      }\n",
              "    </script>\n",
              "  </div>\n",
              "\n",
              "\n",
              "<div id=\"df-43907285-f879-4557-bb75-cdaa45fbb50b\">\n",
              "  <button class=\"colab-df-quickchart\" onclick=\"quickchart('df-43907285-f879-4557-bb75-cdaa45fbb50b')\"\n",
              "            title=\"Suggest charts\"\n",
              "            style=\"display:none;\">\n",
              "\n",
              "<svg xmlns=\"http://www.w3.org/2000/svg\" height=\"24px\"viewBox=\"0 0 24 24\"\n",
              "     width=\"24px\">\n",
              "    <g>\n",
              "        <path d=\"M19 3H5c-1.1 0-2 .9-2 2v14c0 1.1.9 2 2 2h14c1.1 0 2-.9 2-2V5c0-1.1-.9-2-2-2zM9 17H7v-7h2v7zm4 0h-2V7h2v10zm4 0h-2v-4h2v4z\"/>\n",
              "    </g>\n",
              "</svg>\n",
              "  </button>\n",
              "\n",
              "<style>\n",
              "  .colab-df-quickchart {\n",
              "      --bg-color: #E8F0FE;\n",
              "      --fill-color: #1967D2;\n",
              "      --hover-bg-color: #E2EBFA;\n",
              "      --hover-fill-color: #174EA6;\n",
              "      --disabled-fill-color: #AAA;\n",
              "      --disabled-bg-color: #DDD;\n",
              "  }\n",
              "\n",
              "  [theme=dark] .colab-df-quickchart {\n",
              "      --bg-color: #3B4455;\n",
              "      --fill-color: #D2E3FC;\n",
              "      --hover-bg-color: #434B5C;\n",
              "      --hover-fill-color: #FFFFFF;\n",
              "      --disabled-bg-color: #3B4455;\n",
              "      --disabled-fill-color: #666;\n",
              "  }\n",
              "\n",
              "  .colab-df-quickchart {\n",
              "    background-color: var(--bg-color);\n",
              "    border: none;\n",
              "    border-radius: 50%;\n",
              "    cursor: pointer;\n",
              "    display: none;\n",
              "    fill: var(--fill-color);\n",
              "    height: 32px;\n",
              "    padding: 0;\n",
              "    width: 32px;\n",
              "  }\n",
              "\n",
              "  .colab-df-quickchart:hover {\n",
              "    background-color: var(--hover-bg-color);\n",
              "    box-shadow: 0 1px 2px rgba(60, 64, 67, 0.3), 0 1px 3px 1px rgba(60, 64, 67, 0.15);\n",
              "    fill: var(--button-hover-fill-color);\n",
              "  }\n",
              "\n",
              "  .colab-df-quickchart-complete:disabled,\n",
              "  .colab-df-quickchart-complete:disabled:hover {\n",
              "    background-color: var(--disabled-bg-color);\n",
              "    fill: var(--disabled-fill-color);\n",
              "    box-shadow: none;\n",
              "  }\n",
              "\n",
              "  .colab-df-spinner {\n",
              "    border: 2px solid var(--fill-color);\n",
              "    border-color: transparent;\n",
              "    border-bottom-color: var(--fill-color);\n",
              "    animation:\n",
              "      spin 1s steps(1) infinite;\n",
              "  }\n",
              "\n",
              "  @keyframes spin {\n",
              "    0% {\n",
              "      border-color: transparent;\n",
              "      border-bottom-color: var(--fill-color);\n",
              "      border-left-color: var(--fill-color);\n",
              "    }\n",
              "    20% {\n",
              "      border-color: transparent;\n",
              "      border-left-color: var(--fill-color);\n",
              "      border-top-color: var(--fill-color);\n",
              "    }\n",
              "    30% {\n",
              "      border-color: transparent;\n",
              "      border-left-color: var(--fill-color);\n",
              "      border-top-color: var(--fill-color);\n",
              "      border-right-color: var(--fill-color);\n",
              "    }\n",
              "    40% {\n",
              "      border-color: transparent;\n",
              "      border-right-color: var(--fill-color);\n",
              "      border-top-color: var(--fill-color);\n",
              "    }\n",
              "    60% {\n",
              "      border-color: transparent;\n",
              "      border-right-color: var(--fill-color);\n",
              "    }\n",
              "    80% {\n",
              "      border-color: transparent;\n",
              "      border-right-color: var(--fill-color);\n",
              "      border-bottom-color: var(--fill-color);\n",
              "    }\n",
              "    90% {\n",
              "      border-color: transparent;\n",
              "      border-bottom-color: var(--fill-color);\n",
              "    }\n",
              "  }\n",
              "</style>\n",
              "\n",
              "  <script>\n",
              "    async function quickchart(key) {\n",
              "      const quickchartButtonEl =\n",
              "        document.querySelector('#' + key + ' button');\n",
              "      quickchartButtonEl.disabled = true;  // To prevent multiple clicks.\n",
              "      quickchartButtonEl.classList.add('colab-df-spinner');\n",
              "      try {\n",
              "        const charts = await google.colab.kernel.invokeFunction(\n",
              "            'suggestCharts', [key], {});\n",
              "      } catch (error) {\n",
              "        console.error('Error during call to suggestCharts:', error);\n",
              "      }\n",
              "      quickchartButtonEl.classList.remove('colab-df-spinner');\n",
              "      quickchartButtonEl.classList.add('colab-df-quickchart-complete');\n",
              "    }\n",
              "    (() => {\n",
              "      let quickchartButtonEl =\n",
              "        document.querySelector('#df-43907285-f879-4557-bb75-cdaa45fbb50b button');\n",
              "      quickchartButtonEl.style.display =\n",
              "        google.colab.kernel.accessAllowed ? 'block' : 'none';\n",
              "    })();\n",
              "  </script>\n",
              "</div>\n",
              "    </div>\n",
              "  </div>\n"
            ]
          },
          "metadata": {},
          "execution_count": 5
        }
      ]
    },
    {
      "cell_type": "code",
      "source": [
        "X = df[['part1' , 'part2','part3','part4']].values\n",
        "y = df[['part5']].values\n",
        "X ,y"
      ],
      "metadata": {
        "colab": {
          "base_uri": "https://localhost:8080/"
        },
        "id": "RH6H76qbXcP_",
        "outputId": "ee95903f-d344-438e-ccea-d735092e4961"
      },
      "execution_count": null,
      "outputs": [
        {
          "output_type": "execute_result",
          "data": {
            "text/plain": [
              "(array([[ 0.44125,  2.9487 ,  4.3225 ,  0.7155 ],\n",
              "        [-1.8554 , -9.6035 ,  7.7764 , -0.97716],\n",
              "        [-1.1497 ,  1.2954 ,  7.701  ,  0.62627],\n",
              "        ...,\n",
              "        [ 4.6352 , -3.0087 ,  2.6773 ,  1.212  ],\n",
              "        [ 3.1887 , -3.4143 ,  2.7742 , -0.2026 ],\n",
              "        [ 0.26637,  0.73252, -0.67891,  0.03533]]),\n",
              " array([[0],\n",
              "        [1],\n",
              "        [0],\n",
              "        ...,\n",
              "        [0],\n",
              "        [0],\n",
              "        [1]]))"
            ]
          },
          "metadata": {},
          "execution_count": 6
        }
      ]
    },
    {
      "cell_type": "code",
      "source": [
        "X.shape , y.shape"
      ],
      "metadata": {
        "colab": {
          "base_uri": "https://localhost:8080/"
        },
        "id": "u_NbWrxhYRgj",
        "outputId": "30ed326f-a6a4-4cc2-804b-5751853a3b2b"
      },
      "execution_count": null,
      "outputs": [
        {
          "output_type": "execute_result",
          "data": {
            "text/plain": [
              "((1371, 4), (1371, 1))"
            ]
          },
          "metadata": {},
          "execution_count": 7
        }
      ]
    },
    {
      "cell_type": "code",
      "source": [
        "x_train , x_test , y_train , y_test = train_test_split(X , y , test_size = 0.2)\n",
        "x_train.shape , x_test.shape , y_train.shape , y_test.shape"
      ],
      "metadata": {
        "colab": {
          "base_uri": "https://localhost:8080/"
        },
        "id": "rRoEKD6wYgK3",
        "outputId": "e6f4e8c9-d56f-4f1a-9d22-dbc05321ee8d"
      },
      "execution_count": null,
      "outputs": [
        {
          "output_type": "execute_result",
          "data": {
            "text/plain": [
              "((1096, 4), (275, 4), (1096, 1), (275, 1))"
            ]
          },
          "metadata": {},
          "execution_count": 8
        }
      ]
    },
    {
      "cell_type": "code",
      "source": [
        "def sigmoid(score):\n",
        "    return 1/(1+np.exp(-score))"
      ],
      "metadata": {
        "id": "0XqvnLCjj84M"
      },
      "execution_count": null,
      "outputs": []
    },
    {
      "cell_type": "code",
      "source": [
        "def logistic_regression(x , w):\n",
        "  p = sigmoid(x @ w)\n",
        "  return p"
      ],
      "metadata": {
        "id": "P4F6VLvDuh0y"
      },
      "execution_count": null,
      "outputs": []
    },
    {
      "cell_type": "code",
      "source": [
        "def calculate_error(y,p):\n",
        "    cross_entropy = -(np.mean(y*np.log(p) + (1-y)*np.log(1-p)))\n",
        "    return cross_entropy"
      ],
      "metadata": {
        "id": "dn_WzZVVkAiz"
      },
      "execution_count": null,
      "outputs": []
    },
    {
      "cell_type": "code",
      "source": [
        "def gradient(x , y  ,p):\n",
        "  grads = (x.T @(p - y)) / len(y)\n",
        "  return grads"
      ],
      "metadata": {
        "id": "MhPEyt0OtnDM"
      },
      "execution_count": null,
      "outputs": []
    },
    {
      "cell_type": "code",
      "source": [
        "def gradient_descent(w , eta , grads):\n",
        "  w -= eta*grads\n",
        "  return w"
      ],
      "metadata": {
        "id": "xgTm9XY3tqsu"
      },
      "execution_count": null,
      "outputs": []
    },
    {
      "cell_type": "code",
      "source": [
        "x_train = np.hstack((np.ones((len(x_train) , 1)) , x_train))\n",
        "x_train.shape"
      ],
      "metadata": {
        "colab": {
          "base_uri": "https://localhost:8080/"
        },
        "id": "Esw8jhQxj1Kq",
        "outputId": "30462e6c-54fa-4596-c914-cd8730906cba"
      },
      "execution_count": null,
      "outputs": [
        {
          "output_type": "execute_result",
          "data": {
            "text/plain": [
              "(1096, 5)"
            ]
          },
          "metadata": {},
          "execution_count": 14
        }
      ]
    },
    {
      "cell_type": "code",
      "source": [
        "m = 4\n",
        "w = np.random.randn(m+1 , 1)\n",
        "print(w.shape)\n",
        "eta = 0.01\n",
        "n_epochs = 2000"
      ],
      "metadata": {
        "colab": {
          "base_uri": "https://localhost:8080/"
        },
        "id": "cvtUFDN4k9pc",
        "outputId": "432d9ff4-8347-4c24-b32a-ea6be6646b87"
      },
      "execution_count": null,
      "outputs": [
        {
          "output_type": "stream",
          "name": "stdout",
          "text": [
            "(5, 1)\n"
          ]
        }
      ]
    },
    {
      "cell_type": "code",
      "source": [
        "error_hist = []\n",
        "for epoch in range(n_epochs):\n",
        "  p = logistic_regression(x_train , w)\n",
        "  e = calculate_error(y_train , p)\n",
        "  error_hist.append(e)\n",
        "  grads = gradient(x_train , y_train , p)\n",
        "  w = gradient_descent(w , eta , grads)\n",
        "  if(epoch + 1) % 100 == 0:\n",
        "    print(f\"Epoch = {epoch} , \\t E = {e} \\t w={w.T[0]}\")"
      ],
      "metadata": {
        "colab": {
          "base_uri": "https://localhost:8080/"
        },
        "id": "LgmgAfw3lEXO",
        "outputId": "0de9ab6c-fa93-4aa7-d47a-00a35a3d248e"
      },
      "execution_count": null,
      "outputs": [
        {
          "output_type": "stream",
          "name": "stdout",
          "text": [
            "Epoch = 99 , \t E = 0.4803149611507901 \t w=[ 0.65608943 -1.03567698 -0.04067966  0.26721612  0.01635231]\n",
            "Epoch = 199 , \t E = 0.1784803033954892 \t w=[ 0.63564818 -1.04794466 -0.25134719 -0.20747226  0.05812701]\n",
            "Epoch = 299 , \t E = 0.13314003471670716 \t w=[ 0.66199394 -1.06949518 -0.34538897 -0.38707848  0.04363592]\n",
            "Epoch = 399 , \t E = 0.11738489847540806 \t w=[ 0.69963307 -1.10279446 -0.41426237 -0.47377923  0.01780804]\n",
            "Epoch = 499 , \t E = 0.10774032154421613 \t w=[ 0.73951395 -1.13787862 -0.46658178 -0.53106274 -0.0093574 ]\n",
            "Epoch = 599 , \t E = 0.1006443647252312 \t w=[ 0.77894075 -1.17158675 -0.50879414 -0.57556507 -0.03417148]\n",
            "Epoch = 699 , \t E = 0.09503308788578306 \t w=[ 0.81710365 -1.20318399 -0.54454523 -0.6129377  -0.05576701]\n",
            "Epoch = 799 , \t E = 0.09041691910043909 \t w=[ 0.85379937 -1.23265507 -0.57580768 -0.64568427 -0.07424495]\n",
            "Epoch = 899 , \t E = 0.0865165854065115 \t w=[ 0.88903345 -1.26018812 -0.60373189 -0.67512105 -0.0899789 ]\n",
            "Epoch = 999 , \t E = 0.0831546096473055 \t w=[ 0.92288248 -1.28600967 -0.62904685 -0.70202669 -0.10337891]\n",
            "Epoch = 1099 , \t E = 0.08021088342884844 \t w=[ 0.9554429  -1.31033253 -0.65224787 -0.72690425 -0.11481727]\n",
            "Epoch = 1199 , \t E = 0.07760054515223432 \t w=[ 0.98681167 -1.33334195 -0.67369054 -0.75010166 -0.12461092]\n",
            "Epoch = 1299 , \t E = 0.07526162312329585 \t w=[ 1.01707921 -1.35519486 -0.6936413  -0.77187268 -0.13302308]\n",
            "Epoch = 1399 , \t E = 0.07314762172858479 \t w=[ 1.04632738 -1.37602307 -0.71230655 -0.79241029 -0.14027034]\n",
            "Epoch = 1499 , \t E = 0.07122284845287997 \t w=[ 1.07462941 -1.39593733 -0.72985038 -0.81186609 -0.1465307 ]\n",
            "Epoch = 1599 , \t E = 0.06945935605729558 \t w=[ 1.10205058 -1.4150311  -0.74640604 -0.83036236 -0.15195077]\n",
            "Epoch = 1699 , \t E = 0.06783487974503954 \t w=[ 1.12864913 -1.43338372 -0.76208355 -0.84799975 -0.1566518 ]\n",
            "Epoch = 1799 , \t E = 0.06633140903336593 \t w=[ 1.15447712 -1.45106301 -0.77697506 -0.86486256 -0.16073455]\n",
            "Epoch = 1899 , \t E = 0.06493417641540562 \t w=[ 1.1795813  -1.46812739 -0.79115866 -0.88102235 -0.16428322]\n",
            "Epoch = 1999 , \t E = 0.06363092663487167 \t w=[ 1.20400379 -1.48462751 -0.80470117 -0.8965406  -0.16736853]\n"
          ]
        }
      ]
    },
    {
      "cell_type": "code",
      "source": [
        "plt.plot(error_hist)"
      ],
      "metadata": {
        "colab": {
          "base_uri": "https://localhost:8080/",
          "height": 447
        },
        "id": "OOXQ8ym3lKpV",
        "outputId": "e1e0a1a3-ad04-4734-fc67-a76c58580a9a"
      },
      "execution_count": null,
      "outputs": [
        {
          "output_type": "execute_result",
          "data": {
            "text/plain": [
              "[<matplotlib.lines.Line2D at 0x7b1a171ec100>]"
            ]
          },
          "metadata": {},
          "execution_count": 18
        },
        {
          "output_type": "display_data",
          "data": {
            "text/plain": [
              "<Figure size 640x480 with 1 Axes>"
            ],
            "image/png": "[encoded data removed]"
          },
          "metadata": {}
        }
      ]
    },
    {
      "cell_type": "code",
      "source": [
        "def accuracy(y , y_hat):\n",
        "  acc = np.sum(y==np.round(y_hat)) / len(y)\n",
        "  return acc"
      ],
      "metadata": {
        "id": "6xKmnPo7xumW"
      },
      "execution_count": null,
      "outputs": []
    },
    {
      "cell_type": "code",
      "source": [
        "x_test = np.hstack((np.ones((len(x_test) , 1)), x_test))\n",
        "p = logistic_regression(x_test , w)\n",
        "accuracy(y_test , p)"
      ],
      "metadata": {
        "colab": {
          "base_uri": "https://localhost:8080/"
        },
        "id": "Q-G9uTY-lVJB",
        "outputId": "758e4c12-d991-492a-9466-6c39896fae4c"
      },
      "execution_count": null,
      "outputs": [
        {
          "output_type": "execute_result",
          "data": {
            "text/plain": [
              "0.9745454545454545"
            ]
          },
          "metadata": {},
          "execution_count": 19
        }
      ]
    },
    {
      "cell_type": "code",
      "source": [
        "# part 4\n",
        "maxx = df[['part1' , 'part2','part3','part4']].max()\n",
        "\n",
        "minn = df[['part1' , 'part2','part3','part4']].min()\n",
        "\n",
        "for i in range(4):\n",
        "  df[f'part{i+1}'] = (df[f'part{i+1}']-minn[i])/(maxx[i]- minn[i])\n",
        "  print(df[f'part{i+1}'])"
      ],
      "metadata": {
        "colab": {
          "base_uri": "https://localhost:8080/"
        },
        "id": "kE4Zr2GklV3F",
        "outputId": "227f66fa-8e41-4136-81bb-6c0ab4e74864"
      },
      "execution_count": null,
      "outputs": [
        {
          "output_type": "stream",
          "name": "stdout",
          "text": [
            "287     0.539656\n",
            "1030    0.374035\n",
            "420     0.424926\n",
            "107     0.731822\n",
            "923     0.622526\n",
            "          ...   \n",
            "518     0.757848\n",
            "908     0.382919\n",
            "589     0.842099\n",
            "444     0.737786\n",
            "1122    0.527044\n",
            "Name: part1, Length: 1371, dtype: float64\n",
            "287     0.625706\n",
            "1030    0.156020\n",
            "420     0.563842\n",
            "107     0.872395\n",
            "923     0.598143\n",
            "          ...   \n",
            "518     0.772435\n",
            "908     0.168021\n",
            "589     0.402788\n",
            "444     0.387611\n",
            "1122    0.542780\n",
            "Name: part2, Length: 1371, dtype: float64\n",
            "287     0.413923\n",
            "1030    0.562711\n",
            "420     0.559463\n",
            "107     0.044478\n",
            "923     0.093385\n",
            "          ...   \n",
            "518     0.182191\n",
            "908     0.560239\n",
            "589     0.343050\n",
            "444     0.347225\n",
            "1122    0.198470\n",
            "Name: part3, Length: 1371, dtype: float64\n",
            "287     0.842331\n",
            "1030    0.688420\n",
            "420     0.834217\n",
            "107     0.413286\n",
            "923     0.766610\n",
            "          ...   \n",
            "518     0.710760\n",
            "908     0.621166\n",
            "589     0.887476\n",
            "444     0.758850\n",
            "1122    0.780484\n",
            "Name: part4, Length: 1371, dtype: float64\n"
          ]
        }
      ]
    },
    {
      "cell_type": "code",
      "source": [
        "X = df[['part1' , 'part2','part3','part4']].values\n",
        "\n",
        "y = df[[\"part5\"]].values\n",
        "X , y"
      ],
      "metadata": {
        "colab": {
          "base_uri": "https://localhost:8080/"
        },
        "id": "wq4ir589a159",
        "outputId": "156f217e-02ac-4c61-9d9e-804304671f79"
      },
      "execution_count": null,
      "outputs": [
        {
          "output_type": "execute_result",
          "data": {
            "text/plain": [
              "(array([[0.53965558, 0.62570581, 0.41392293, 0.84233067],\n",
              "        [0.37403457, 0.15602046, 0.56271135, 0.68842031],\n",
              "        [0.42492554, 0.56384169, 0.55946324, 0.83421715],\n",
              "        ...,\n",
              "        [0.84209881, 0.40278843, 0.34305038, 0.88747647],\n",
              "        [0.73778566, 0.38761146, 0.34722468, 0.75884958],\n",
              "        [0.52704426, 0.54277953, 0.19847029, 0.7804841 ]]),\n",
              " array([[0],\n",
              "        [1],\n",
              "        [0],\n",
              "        ...,\n",
              "        [0],\n",
              "        [0],\n",
              "        [1]]))"
            ]
          },
          "metadata": {},
          "execution_count": 23
        }
      ]
    },
    {
      "cell_type": "code",
      "source": [
        "# part 5\n",
        "x_train , x_test , y_train , y_test = train_test_split(X , y , test_size = 0.2)\n",
        "x_train.shape , x_test.shape , y_train.shape , y_test.shape"
      ],
      "metadata": {
        "colab": {
          "base_uri": "https://localhost:8080/"
        },
        "id": "QlVtdPUca6fv",
        "outputId": "4a8e8379-684a-4aa8-a3fd-9a9a67ff0615"
      },
      "execution_count": null,
      "outputs": [
        {
          "output_type": "execute_result",
          "data": {
            "text/plain": [
              "((1096, 4), (275, 4), (1096, 1), (275, 1))"
            ]
          },
          "metadata": {},
          "execution_count": 32
        }
      ]
    },
    {
      "cell_type": "code",
      "source": [
        "x_train = np.hstack((np.ones((len(x_train) , 1)) , x_train))\n",
        "x_train.shape"
      ],
      "metadata": {
        "colab": {
          "base_uri": "https://localhost:8080/"
        },
        "id": "29RwoWlVa-X8",
        "outputId": "9f04fc12-3018-4010-b3fb-6bb4d8f63954"
      },
      "execution_count": null,
      "outputs": [
        {
          "output_type": "execute_result",
          "data": {
            "text/plain": [
              "(1096, 5)"
            ]
          },
          "metadata": {},
          "execution_count": 33
        }
      ]
    },
    {
      "cell_type": "code",
      "source": [
        "m = 4\n",
        "w = np.random.randn(m+1 , 1)\n",
        "print(w.shape)\n",
        "eta = 0.01\n",
        "n_epochs = 10000"
      ],
      "metadata": {
        "colab": {
          "base_uri": "https://localhost:8080/"
        },
        "id": "w6R1jXqxbECl",
        "outputId": "d1e51aac-35ca-430f-f497-1ca4b2444562"
      },
      "execution_count": null,
      "outputs": [
        {
          "output_type": "stream",
          "name": "stdout",
          "text": [
            "(5, 1)\n"
          ]
        }
      ]
    },
    {
      "cell_type": "code",
      "source": [
        "error_hist = []\n",
        "for epoch in range(n_epochs):\n",
        "  p = logistic_regression(x_train , w)\n",
        "  e = calculate_error(y_train , p)\n",
        "  error_hist.append(e)\n",
        "  grads = gradient(x_train , y_train , p)\n",
        "  w = gradient_descent(w , eta , grads)\n",
        "  if(epoch + 1) % 100 == 0:\n",
        "    print(f\"Epoch = {epoch} , \\t E = {e:.4} \\t w={w.T[0]}\")"
      ],
      "metadata": {
        "colab": {
          "base_uri": "https://localhost:8080/"
        },
        "id": "Fi383JqObElq",
        "outputId": "141e153a-7d38-4376-ed31-e8dd50e6e2ef"
      },
      "execution_count": null,
      "outputs": [
        {
          "output_type": "stream",
          "name": "stdout",
          "text": [
            "Epoch = 99 , \t E = 1.067 \t w=[ 0.36888162  1.24063431  0.83986613 -0.67044714 -0.38016265]\n",
            "Epoch = 199 , \t E = 0.8898 \t w=[ 0.12958604  1.02356214  0.63336978 -0.70991275 -0.53839637]\n",
            "Epoch = 299 , \t E = 0.8163 \t w=[-0.00458392  0.86467387  0.48872109 -0.71928905 -0.62441729]\n",
            "Epoch = 399 , \t E = 0.7846 \t w=[-0.07042788  0.7445765   0.38551056 -0.71012292 -0.66397295]\n",
            "Epoch = 499 , \t E = 0.7678 \t w=[-0.09550925  0.64812187  0.30770317 -0.69044756 -0.67611366]\n",
            "Epoch = 599 , \t E = 0.7564 \t w=[-0.09680376  0.56582423  0.24520676 -0.66503628 -0.67246976]\n",
            "Epoch = 699 , \t E = 0.747 \t w=[-0.08426937  0.49207923  0.19203613 -0.63663798 -0.65982298]\n",
            "Epoch = 799 , \t E = 0.7384 \t w=[-0.06371481  0.42360743  0.144679   -0.60684041 -0.64211273]\n",
            "Epoch = 899 , \t E = 0.7303 \t w=[-0.03854288  0.35848464  0.1010694  -0.57656777 -0.62163892]\n",
            "Epoch = 999 , \t E = 0.7225 \t w=[-0.01075619  0.29557688  0.05998625 -0.54636045 -0.59975014]\n",
            "Epoch = 1099 , \t E = 0.7149 \t w=[ 0.01846341  0.23421338  0.02070421 -0.51653413 -0.57723833]\n",
            "Epoch = 1199 , \t E = 0.7076 \t w=[ 0.04841786  0.17399603 -0.01721013 -0.48727173 -0.55456761]\n",
            "Epoch = 1299 , \t E = 0.7004 \t w=[ 0.07869525  0.1146877  -0.05401778 -0.4586773  -0.53200827]\n",
            "Epoch = 1399 , \t E = 0.6935 \t w=[ 0.10905326  0.05614636 -0.08987798 -0.43080785 -0.50971576]\n",
            "Epoch = 1499 , \t E = 0.6868 \t w=[ 0.13935008 -0.00171389 -0.12488986 -0.40369218 -0.48777749]\n",
            "Epoch = 1599 , \t E = 0.6803 \t w=[ 0.16950351 -0.05894584 -0.15911713 -0.37734219 -0.4662405 ]\n",
            "Epoch = 1699 , \t E = 0.674 \t w=[ 0.19946669 -0.11558285 -0.19260266 -0.35175958 -0.44512795]\n",
            "Epoch = 1799 , \t E = 0.6678 \t w=[ 0.22921369 -0.17164686 -0.2253771  -0.32693984 -0.42444891]\n",
            "Epoch = 1899 , \t E = 0.6619 \t w=[ 0.25873094 -0.2271532  -0.25746399 -0.30287469 -0.4042041 ]\n",
            "Epoch = 1999 , \t E = 0.6561 \t w=[ 0.28801223 -0.28211337 -0.2888827  -0.2795535  -0.38438938]\n",
            "Epoch = 2099 , \t E = 0.6504 \t w=[ 0.31705564 -0.33653669 -0.31965021 -0.25696422 -0.3649978 ]\n",
            "Epoch = 2199 , \t E = 0.6449 \t w=[ 0.34586181 -0.39043126 -0.34978212 -0.23509388 -0.34602079]\n",
            "Epoch = 2299 , \t E = 0.6396 \t w=[ 0.37443285 -0.44380453 -0.37929322 -0.21392896 -0.32744888]\n",
            "Epoch = 2399 , \t E = 0.6344 \t w=[ 0.40277176 -0.49666357 -0.40819783 -0.19345557 -0.30927219]\n",
            "Epoch = 2499 , \t E = 0.6294 \t w=[ 0.43088199 -0.54901533 -0.43650997 -0.17365964 -0.29148063]\n",
            "Epoch = 2599 , \t E = 0.6245 \t w=[ 0.45876728 -0.60086665 -0.46424347 -0.15452701 -0.27406409]\n",
            "Epoch = 2699 , \t E = 0.6197 \t w=[ 0.48643148 -0.65222436 -0.491412   -0.13604347 -0.25701251]\n",
            "Epoch = 2799 , \t E = 0.6151 \t w=[ 0.51387852 -0.70309531 -0.51802909 -0.11819484 -0.24031597]\n",
            "Epoch = 2899 , \t E = 0.6105 \t w=[ 0.54111228 -0.75348633 -0.54410815 -0.10096703 -0.22396473]\n",
            "Epoch = 2999 , \t E = 0.6061 \t w=[ 0.56813666 -0.80340425 -0.5696624  -0.08434603 -0.20794921]\n",
            "Epoch = 3099 , \t E = 0.6018 \t w=[ 0.59495548 -0.85285592 -0.59470496 -0.06831798 -0.19226005]\n",
            "Epoch = 3199 , \t E = 0.5976 \t w=[ 0.6215725  -0.90184814 -0.61924872 -0.05286917 -0.1768881 ]\n",
            "Epoch = 3299 , \t E = 0.5936 \t w=[ 0.64799141 -0.95038772 -0.64330643 -0.03798606 -0.16182442]\n",
            "Epoch = 3399 , \t E = 0.5896 \t w=[ 0.67421583 -0.99848141 -0.66689063 -0.02365531 -0.14706028]\n",
            "Epoch = 3499 , \t E = 0.5857 \t w=[ 0.70024931 -1.04613592 -0.69001362 -0.00986381 -0.13258722]\n",
            "Epoch = 3599 , \t E = 0.5819 \t w=[ 0.7260953  -1.09335792 -0.71268753  0.00340137 -0.11839694]\n",
            "Epoch = 3699 , \t E = 0.5782 \t w=[ 0.75175719 -1.14015399 -0.73492424  0.01615289 -0.1044814 ]\n",
            "Epoch = 3799 , \t E = 0.5746 \t w=[ 0.77723828 -1.18653067 -0.75673539  0.02840319 -0.09083276]\n",
            "Epoch = 3899 , \t E = 0.5711 \t w=[ 0.80254179 -1.23249441 -0.77813238  0.04016446 -0.07744343]\n",
            "Epoch = 3999 , \t E = 0.5676 \t w=[ 0.82767087 -1.27805157 -0.79912639  0.05144864 -0.06430598]\n",
            "Epoch = 4099 , \t E = 0.5642 \t w=[ 0.85262857 -1.32320844 -0.81972832  0.06226741 -0.05141325]\n",
            "Epoch = 4199 , \t E = 0.5609 \t w=[ 0.87741789 -1.36797122 -0.83994884  0.07263218 -0.03875824]\n",
            "Epoch = 4299 , \t E = 0.5577 \t w=[ 0.90204174 -1.41234601 -0.85979836  0.08255414 -0.02633417]\n",
            "Epoch = 4399 , \t E = 0.5546 \t w=[ 0.92650296 -1.45633881 -0.87928705  0.09204417 -0.01413448]\n",
            "Epoch = 4499 , \t E = 0.5515 \t w=[ 0.9508043  -1.49995552 -0.89842482  0.10111292 -0.00215277]\n",
            "Epoch = 4599 , \t E = 0.5485 \t w=[ 0.97494847 -1.54320196 -0.91722133  0.10977079  0.00961715]\n",
            "Epoch = 4699 , \t E = 0.5455 \t w=[ 0.99893809 -1.58608383 -0.93568601  0.1180279   0.02118129]\n",
            "Epoch = 4799 , \t E = 0.5426 \t w=[ 1.02277572 -1.62860674 -0.95382801  0.12589413  0.03254546]\n",
            "Epoch = 4899 , \t E = 0.5398 \t w=[ 1.04646385 -1.67077618 -0.97165627  0.13337911  0.04371532]\n",
            "Epoch = 4999 , \t E = 0.537 \t w=[ 1.07000489 -1.71259756 -0.98917947  0.14049221  0.05469635]\n",
            "Epoch = 5099 , \t E = 0.5343 \t w=[ 1.09340124 -1.75407617 -1.00640607  0.14724258  0.06549385]\n",
            "Epoch = 5199 , \t E = 0.5316 \t w=[ 1.11665517 -1.79521722 -1.02334429  0.1536391   0.07611298]\n",
            "Epoch = 5299 , \t E = 0.529 \t w=[ 1.13976895 -1.83602579 -1.04000213  0.15969044  0.08655871]\n",
            "Epoch = 5399 , \t E = 0.5264 \t w=[ 1.16274477 -1.87650689 -1.05638735  0.16540503  0.09683589]\n",
            "Epoch = 5499 , \t E = 0.5239 \t w=[ 1.18558475 -1.9166654  -1.0725075   0.17079108  0.10694919]\n",
            "Epoch = 5599 , \t E = 0.5214 \t w=[ 1.20829098 -1.95650613 -1.08836993  0.17585658  0.11690316]\n",
            "Epoch = 5699 , \t E = 0.5189 \t w=[ 1.23086548 -1.99603378 -1.10398176  0.18060929  0.1267022 ]\n",
            "Epoch = 5799 , \t E = 0.5166 \t w=[ 1.25331025 -2.03525295 -1.11934993  0.18505677  0.13635057]\n",
            "Epoch = 5899 , \t E = 0.5142 \t w=[ 1.27562721 -2.07416816 -1.13448114  0.18920637  0.14585241]\n",
            "Epoch = 5999 , \t E = 0.5119 \t w=[ 1.29781824 -2.11278384 -1.14938194  0.19306526  0.15521171]\n",
            "Epoch = 6099 , \t E = 0.5096 \t w=[ 1.31988519 -2.1511043  -1.16405866  0.19664038  0.16443236]\n",
            "Epoch = 6199 , \t E = 0.5074 \t w=[ 1.34182984 -2.18913381 -1.17851747  0.19993852  0.17351812]\n",
            "Epoch = 6299 , \t E = 0.5052 \t w=[ 1.36365396 -2.22687651 -1.19276433  0.20296624  0.18247263]\n",
            "Epoch = 6399 , \t E = 0.503 \t w=[ 1.38535925 -2.26433647 -1.20680505  0.20572995  0.19129942]\n",
            "Epoch = 6499 , \t E = 0.5009 \t w=[ 1.40694738 -2.30151768 -1.22064526  0.20823588  0.20000192]\n",
            "Epoch = 6599 , \t E = 0.4988 \t w=[ 1.42841998 -2.33842406 -1.23429043  0.21049009  0.20858343]\n",
            "Epoch = 6699 , \t E = 0.4968 \t w=[ 1.44977866 -2.37505942 -1.24774585  0.21249847  0.21704718]\n",
            "Epoch = 6799 , \t E = 0.4948 \t w=[ 1.47102497 -2.41142751 -1.26101669  0.21426676  0.22539628]\n",
            "Epoch = 6899 , \t E = 0.4928 \t w=[ 1.49216042 -2.44753202 -1.27410794  0.21580052  0.23363376]\n",
            "Epoch = 6999 , \t E = 0.4908 \t w=[ 1.51318653 -2.48337654 -1.28702444  0.21710518  0.24176253]\n",
            "Epoch = 7099 , \t E = 0.4889 \t w=[ 1.53410473 -2.51896459 -1.2997709   0.21818602  0.24978544]\n",
            "Epoch = 7199 , \t E = 0.487 \t w=[ 1.55491646 -2.55429963 -1.31235189  0.21904817  0.25770523]\n",
            "Epoch = 7299 , \t E = 0.4851 \t w=[ 1.5756231  -2.58938504 -1.32477185  0.21969663  0.26552459]\n",
            "Epoch = 7399 , \t E = 0.4832 \t w=[ 1.59622603 -2.62422416 -1.33703508  0.22013626  0.27324609]\n",
            "Epoch = 7499 , \t E = 0.4814 \t w=[ 1.61672658 -2.65882022 -1.34914575  0.22037178  0.28087224]\n",
            "Epoch = 7599 , \t E = 0.4796 \t w=[ 1.63712605 -2.69317642 -1.36110791  0.2204078   0.28840547]\n",
            "Epoch = 7699 , \t E = 0.4779 \t w=[ 1.65742573 -2.72729588 -1.3729255   0.22024881  0.29584814]\n",
            "Epoch = 7799 , \t E = 0.4761 \t w=[ 1.67762686 -2.76118167 -1.38460235  0.21989915  0.30320255]\n",
            "Epoch = 7899 , \t E = 0.4744 \t w=[ 1.69773068 -2.79483679 -1.39614214  0.21936309  0.31047091]\n",
            "Epoch = 7999 , \t E = 0.4727 \t w=[ 1.71773839 -2.82826419 -1.40754849  0.21864474  0.31765536]\n",
            "Epoch = 8099 , \t E = 0.471 \t w=[ 1.73765117 -2.86146676 -1.41882489  0.21774815  0.32475801]\n",
            "Epoch = 8199 , \t E = 0.4693 \t w=[ 1.75747017 -2.89444734 -1.42997472  0.21667721  0.33178088]\n",
            "Epoch = 8299 , \t E = 0.4677 \t w=[ 1.77719652 -2.9272087  -1.44100128  0.21543577  0.33872593]\n",
            "Epoch = 8399 , \t E = 0.4661 \t w=[ 1.79683133 -2.95975358 -1.45190777  0.21402752  0.34559507]\n",
            "Epoch = 8499 , \t E = 0.4645 \t w=[ 1.8163757  -2.99208466 -1.46269728  0.21245609  0.35239015]\n",
            "Epoch = 8599 , \t E = 0.4629 \t w=[ 1.83583068 -3.02420455 -1.47337284  0.21072502  0.35911297]\n",
            "Epoch = 8699 , \t E = 0.4614 \t w=[ 1.85519733 -3.05611583 -1.48393736  0.20883774  0.36576527]\n",
            "Epoch = 8799 , \t E = 0.4598 \t w=[ 1.87447668 -3.08782105 -1.4943937   0.20679759  0.37234874]\n",
            "Epoch = 8899 , \t E = 0.4583 \t w=[ 1.89366973 -3.11932268 -1.5047446   0.20460785  0.37886503]\n",
            "Epoch = 8999 , \t E = 0.4568 \t w=[ 1.91277747 -3.15062316 -1.51499276  0.20227169  0.38531574]\n",
            "Epoch = 9099 , \t E = 0.4554 \t w=[ 1.93180088 -3.18172489 -1.52514078  0.19979222  0.3917024 ]\n",
            "Epoch = 9199 , \t E = 0.4539 \t w=[ 1.9507409  -3.21263021 -1.53519118  0.19717246  0.39802653]\n",
            "Epoch = 9299 , \t E = 0.4525 \t w=[ 1.96959848 -3.24334144 -1.54514642  0.19441536  0.40428958]\n",
            "Epoch = 9399 , \t E = 0.451 \t w=[ 1.98837452 -3.27386085 -1.5550089   0.19152379  0.41049297]\n",
            "Epoch = 9499 , \t E = 0.4496 \t w=[ 2.00706995 -3.30419067 -1.56478092  0.18850056  0.41663809]\n",
            "Epoch = 9599 , \t E = 0.4482 \t w=[ 2.02568564 -3.33433308 -1.57446475  0.18534841  0.42272626]\n",
            "Epoch = 9699 , \t E = 0.4468 \t w=[ 2.04422247 -3.36429023 -1.58406258  0.18207     0.42875879]\n",
            "Epoch = 9799 , \t E = 0.4455 \t w=[ 2.06268129 -3.39406425 -1.59357653  0.17866794  0.43473693]\n",
            "Epoch = 9899 , \t E = 0.4441 \t w=[ 2.08106295 -3.4236572  -1.60300868  0.17514476  0.44066193]\n",
            "Epoch = 9999 , \t E = 0.4428 \t w=[ 2.09936827 -3.45307113 -1.61236102  0.17150294  0.44653496]\n"
          ]
        }
      ]
    },
    {
      "cell_type": "code",
      "source": [
        "plt.plot(error_hist)"
      ],
      "metadata": {
        "colab": {
          "base_uri": "https://localhost:8080/",
          "height": 447
        },
        "id": "zhWwJCSfbS1Q",
        "outputId": "6c3449a9-d87e-4f2f-e224-f00e02235fc7"
      },
      "execution_count": null,
      "outputs": [
        {
          "output_type": "execute_result",
          "data": {
            "text/plain": [
              "[<matplotlib.lines.Line2D at 0x7b1a141de2c0>]"
            ]
          },
          "metadata": {},
          "execution_count": 36
        },
        {
          "output_type": "display_data",
          "data": {
            "text/plain": [
              "<Figure size 640x480 with 1 Axes>"
            ],
            "image/png": "[encoded data removed]"
          },
          "metadata": {}
        }
      ]
    },
    {
      "cell_type": "code",
      "source": [
        "x_test = np.hstack((np.ones((len(x_test) , 1)), x_test))\n",
        "x_test.shape"
      ],
      "metadata": {
        "colab": {
          "base_uri": "https://localhost:8080/"
        },
        "id": "mM06kr_NbTay",
        "outputId": "89fd274d-fced-4499-fa9a-a6c75bc906d3"
      },
      "execution_count": null,
      "outputs": [
        {
          "output_type": "execute_result",
          "data": {
            "text/plain": [
              "(275, 5)"
            ]
          },
          "metadata": {},
          "execution_count": 37
        }
      ]
    },
    {
      "cell_type": "code",
      "source": [
        "p = logistic_regression(x_test , w)\n",
        "accuracy(y_test , p)"
      ],
      "metadata": {
        "colab": {
          "base_uri": "https://localhost:8080/"
        },
        "id": "BeVq4JHybW3C",
        "outputId": "202a44d1-b27e-48b0-cf45-9ace405064ec"
      },
      "execution_count": null,
      "outputs": [
        {
          "output_type": "execute_result",
          "data": {
            "text/plain": [
              "0.850909090909091"
            ]
          },
          "metadata": {},
          "execution_count": 38
        }
      ]
    },
    {
      "cell_type": "code",
      "source": [
        "# part 6\n",
        "new_y = pd.DataFrame(y, columns=['Column_A'])\n",
        "new_y.value_counts()\n",
        "new_y.value_counts().plot.pie(autopct = \"%.2f\")"
      ],
      "metadata": {
        "colab": {
          "base_uri": "https://localhost:8080/",
          "height": 423
        },
        "id": "EL7z6E8abZN6",
        "outputId": "f8587c61-4266-4270-c4d9-9579d771cc47"
      },
      "execution_count": null,
      "outputs": [
        {
          "output_type": "execute_result",
          "data": {
            "text/plain": [
              "<Axes: >"
            ]
          },
          "metadata": {},
          "execution_count": 39
        },
        {
          "output_type": "display_data",
          "data": {
            "text/plain": [
              "<Figure size 640x480 with 1 Axes>"
            ],
            "image/png": "[encoded data removed]"
          },
          "metadata": {}
        }
      ]
    },
    {
      "cell_type": "code",
      "source": [
        "! pip install -U imbalanced-learn"
      ],
      "metadata": {
        "colab": {
          "base_uri": "https://localhost:8080/"
        },
        "id": "-pWHDX4BbgTR",
        "outputId": "de08b50d-707a-4312-d023-b91b51a44727"
      },
      "execution_count": null,
      "outputs": [
        {
          "output_type": "stream",
          "name": "stdout",
          "text": [
            "Requirement already satisfied: imbalanced-learn in /usr/local/lib/python3.10/dist-packages (0.10.1)\n",
            "Collecting imbalanced-learn\n",
            "  Downloading imbalanced_learn-0.11.0-py3-none-any.whl (235 kB)\n",
            "\u001b[2K     \u001b[90m━━━━━━━━━━━━━━━━━━━━━━━━━━━━━━━━━━━━━━━━\u001b[0m \u001b[32m235.6/235.6 kB\u001b[0m \u001b[31m4.7 MB/s\u001b[0m eta \u001b[36m0:00:00\u001b[0m\n",
            "\u001b[?25hRequirement already satisfied: numpy>=1.17.3 in /usr/local/lib/python3.10/dist-packages (from imbalanced-learn) (1.23.5)\n",
            "Requirement already satisfied: scipy>=1.5.0 in /usr/local/lib/python3.10/dist-packages (from imbalanced-learn) (1.11.3)\n",
            "Requirement already satisfied: scikit-learn>=1.0.2 in /usr/local/lib/python3.10/dist-packages (from imbalanced-learn) (1.2.2)\n",
            "Requirement already satisfied: joblib>=1.1.1 in /usr/local/lib/python3.10/dist-packages (from imbalanced-learn) (1.3.2)\n",
            "Requirement already satisfied: threadpoolctl>=2.0.0 in /usr/local/lib/python3.10/dist-packages (from imbalanced-learn) (3.2.0)\n",
            "Installing collected packages: imbalanced-learn\n",
            "  Attempting uninstall: imbalanced-learn\n",
            "    Found existing installation: imbalanced-learn 0.10.1\n",
            "    Uninstalling imbalanced-learn-0.10.1:\n",
            "      Successfully uninstalled imbalanced-learn-0.10.1\n",
            "Successfully installed imbalanced-learn-0.11.0\n"
          ]
        }
      ]
    },
    {
      "cell_type": "code",
      "source": [
        "from imblearn.under_sampling import RandomUnderSampler\n",
        "\n",
        "y = pd.DataFrame(y, columns=[''])\n",
        "rus = RandomUnderSampler(sampling_strategy=1)\n",
        "x_res_undersampling , y_res_undersampling = rus.fit_resample(X , y)\n",
        "ax = y_res_undersampling.value_counts().plot.pie(autopct = '%.2f')\n",
        "_ = ax.set_title(\"under sampling\")"
      ],
      "metadata": {
        "colab": {
          "base_uri": "https://localhost:8080/",
          "height": 428
        },
        "id": "48okDBgLbjVw",
        "outputId": "0d7efe88-ae8f-4c62-fd21-7f0705f5fda1"
      },
      "execution_count": null,
      "outputs": [
        {
          "output_type": "display_data",
          "data": {
            "text/plain": [
              "<Figure size 640x480 with 1 Axes>"
            ],
            "image/png": "[encoded data removed]"
          },
          "metadata": {}
        }
      ]
    },
    {
      "cell_type": "code",
      "source": [
        "# part 7\n",
        "\n",
        "from sklearn.linear_model import LogisticRegression\n",
        "from sklearn.datasets import make_classification\n",
        "from sklearn.model_selection import train_test_split\n",
        "from sklearn.metrics import accuracy_score\n",
        "X = x_res_undersampling\n",
        "y = y_res_undersampling\n",
        "x_train , x_test , y_train , y_test = train_test_split(X , y , test_size = 0.2)"
      ],
      "metadata": {
        "id": "EaMhfNshblpA"
      },
      "execution_count": null,
      "outputs": []
    },
    {
      "cell_type": "code",
      "source": [
        "model = LogisticRegression()\n",
        "model.fit(X , y)"
      ],
      "metadata": {
        "colab": {
          "base_uri": "https://localhost:8080/",
          "height": 129
        },
        "id": "khcTYZzibowL",
        "outputId": "0bb6a4dc-9bb4-4926-d20a-9c6c116c1843"
      },
      "execution_count": null,
      "outputs": [
        {
          "output_type": "stream",
          "name": "stderr",
          "text": [
            "/usr/local/lib/python3.10/dist-packages/sklearn/utils/validation.py:1143: DataConversionWarning: A column-vector y was passed when a 1d array was expected. Please change the shape of y to (n_samples, ), for example using ravel().\n",
            "  y = column_or_1d(y, warn=True)\n"
          ]
        },
        {
          "output_type": "execute_result",
          "data": {
            "text/plain": [
              "LogisticRegression()"
            ],
            "text/html": [
              "<style>#sk-container-id-1 {color: black;background-color: white;}#sk-container-id-1 pre{padding: 0;}#sk-container-id-1 div.sk-toggleable {background-color: white;}#sk-container-id-1 label.sk-toggleable__label {cursor: pointer;display: block;width: 100%;margin-bottom: 0;padding: 0.3em;box-sizing: border-box;text-align: center;}#sk-container-id-1 label.sk-toggleable__label-arrow:before {content: \"▸\";float: left;margin-right: 0.25em;color: #696969;}#sk-container-id-1 label.sk-toggleable__label-arrow:hover:before {color: black;}#sk-container-id-1 div.sk-estimator:hover label.sk-toggleable__label-arrow:before {color: black;}#sk-container-id-1 div.sk-toggleable__content {max-height: 0;max-width: 0;overflow: hidden;text-align: left;background-color: #f0f8ff;}#sk-container-id-1 div.sk-toggleable__content pre {margin: 0.2em;color: black;border-radius: 0.25em;background-color: #f0f8ff;}#sk-container-id-1 input.sk-toggleable__control:checked~div.sk-toggleable__content {max-height: 200px;max-width: 100%;overflow: auto;}#sk-container-id-1 input.sk-toggleable__control:checked~label.sk-toggleable__label-arrow:before {content: \"▾\";}#sk-container-id-1 div.sk-estimator input.sk-toggleable__control:checked~label.sk-toggleable__label {background-color: #d4ebff;}#sk-container-id-1 div.sk-label input.sk-toggleable__control:checked~label.sk-toggleable__label {background-color: #d4ebff;}#sk-container-id-1 input.sk-hidden--visually {border: 0;clip: rect(1px 1px 1px 1px);clip: rect(1px, 1px, 1px, 1px);height: 1px;margin: -1px;overflow: hidden;padding: 0;position: absolute;width: 1px;}#sk-container-id-1 div.sk-estimator {font-family: monospace;background-color: #f0f8ff;border: 1px dotted black;border-radius: 0.25em;box-sizing: border-box;margin-bottom: 0.5em;}#sk-container-id-1 div.sk-estimator:hover {background-color: #d4ebff;}#sk-container-id-1 div.sk-parallel-item::after {content: \"\";width: 100%;border-bottom: 1px solid gray;flex-grow: 1;}#sk-container-id-1 div.sk-label:hover label.sk-toggleable__label {background-color: #d4ebff;}#sk-container-id-1 div.sk-serial::before {content: \"\";position: absolute;border-left: 1px solid gray;box-sizing: border-box;top: 0;bottom: 0;left: 50%;z-index: 0;}#sk-container-id-1 div.sk-serial {display: flex;flex-direction: column;align-items: center;background-color: white;padding-right: 0.2em;padding-left: 0.2em;position: relative;}#sk-container-id-1 div.sk-item {position: relative;z-index: 1;}#sk-container-id-1 div.sk-parallel {display: flex;align-items: stretch;justify-content: center;background-color: white;position: relative;}#sk-container-id-1 div.sk-item::before, #sk-container-id-1 div.sk-parallel-item::before {content: \"\";position: absolute;border-left: 1px solid gray;box-sizing: border-box;top: 0;bottom: 0;left: 50%;z-index: -1;}#sk-container-id-1 div.sk-parallel-item {display: flex;flex-direction: column;z-index: 1;position: relative;background-color: white;}#sk-container-id-1 div.sk-parallel-item:first-child::after {align-self: flex-end;width: 50%;}#sk-container-id-1 div.sk-parallel-item:last-child::after {align-self: flex-start;width: 50%;}#sk-container-id-1 div.sk-parallel-item:only-child::after {width: 0;}#sk-container-id-1 div.sk-dashed-wrapped {border: 1px dashed gray;margin: 0 0.4em 0.5em 0.4em;box-sizing: border-box;padding-bottom: 0.4em;background-color: white;}#sk-container-id-1 div.sk-label label {font-family: monospace;font-weight: bold;display: inline-block;line-height: 1.2em;}#sk-container-id-1 div.sk-label-container {text-align: center;}#sk-container-id-1 div.sk-container {/* jupyter's `normalize.less` sets `[hidden] { display: none; }` but bootstrap.min.css set `[hidden] { display: none !important; }` so we also need the `!important` here to be able to override the default hidden behavior on the sphinx rendered scikit-learn.org. See: https://github.com/scikit-learn/scikit-learn/issues/21755 */display: inline-block !important;position: relative;}#sk-container-id-1 div.sk-text-repr-fallback {display: none;}</style><div id=\"sk-container-id-1\" class=\"sk-top-container\"><div class=\"sk-text-repr-fallback\"><pre>LogisticRegression()</pre><b>In a Jupyter environment, please rerun this cell to show the HTML representation or trust the notebook. <br />On GitHub, the HTML representation is unable to render, please try loading this page with nbviewer.org.</b></div><div class=\"sk-container\" hidden><div class=\"sk-item\"><div class=\"sk-estimator sk-toggleable\"><input class=\"sk-toggleable__control sk-hidden--visually\" id=\"sk-estimator-id-1\" type=\"checkbox\" checked><label for=\"sk-estimator-id-1\" class=\"sk-toggleable__label sk-toggleable__label-arrow\">LogisticRegression</label><div class=\"sk-toggleable__content\"><pre>LogisticRegression()</pre></div></div></div></div></div>"
            ]
          },
          "metadata": {},
          "execution_count": 43
        }
      ]
    },
    {
      "cell_type": "code",
      "source": [
        "y_hat = model.predict(x_test)\n",
        "model.score(x_test , y_test)\n",
        "y_test.shape ,\n",
        "y_hat = y_hat.reshape(244 , 1)\n",
        "y_test.shape , y_hat.shape\n",
        "\n",
        "from sklearn.metrics import accuracy_score\n",
        "score = accuracy_score(y_test, y_hat)\n",
        "score"
      ],
      "metadata": {
        "colab": {
          "base_uri": "https://localhost:8080/"
        },
        "id": "hsRnZIjvbshB",
        "outputId": "afaaf65a-892d-4353-eb02-0a2e1f80c451"
      },
      "execution_count": null,
      "outputs": [
        {
          "output_type": "execute_result",
          "data": {
            "text/plain": [
              "0.9795081967213115"
            ]
          },
          "metadata": {},
          "execution_count": 44
        }
      ]
    },
    {
      "cell_type": "code",
      "source": [
        "from sklearn.linear_model import LogisticRegression\n",
        "from sklearn.datasets import make_classification\n",
        "from sklearn.linear_model import LogisticRegression , SGDClassifier\n",
        "import matplotlib.pyplot as plt\n",
        "from sklearn.model_selection import train_test_split\n",
        "\n",
        "X = df[['part1' , 'part2','part3','part4']].values\n",
        "y = df[[\"part5\"]].values\n",
        "x_train , x_test , y_train , y_test = train_test_split(X , y , test_size = 0.2)\n",
        "model = LogisticRegression(random_state = 93, solver='sag', max_iter=200)\n",
        "model.fit(X , y)\n",
        "y_hat = model.predict(x_test)\n",
        "model.score(x_test , y_test)"
      ],
      "metadata": {
        "colab": {
          "base_uri": "https://localhost:8080/"
        },
        "id": "qgy1Gxj4btBr",
        "outputId": "59ef27b3-9bb8-4bec-9cba-7382267ba687"
      },
      "execution_count": null,
      "outputs": [
        {
          "output_type": "stream",
          "name": "stderr",
          "text": [
            "/usr/local/lib/python3.10/dist-packages/sklearn/utils/validation.py:1143: DataConversionWarning: A column-vector y was passed when a 1d array was expected. Please change the shape of y to (n_samples, ), for example using ravel().\n",
            "  y = column_or_1d(y, warn=True)\n"
          ]
        },
        {
          "output_type": "execute_result",
          "data": {
            "text/plain": [
              "0.9818181818181818"
            ]
          },
          "metadata": {},
          "execution_count": 45
        }
      ]
    }
  ]
}